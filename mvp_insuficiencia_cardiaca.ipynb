{
  "nbformat": 4,
  "nbformat_minor": 0,
  "metadata": {
    "colab": {
      "provenance": [],
      "toc_visible": true,
      "authorship_tag": "ABX9TyMIeFbwFu4nUPvjv2ryrMHc",
      "include_colab_link": true
    },
    "kernelspec": {
      "name": "python3",
      "display_name": "Python 3"
    },
    "language_info": {
      "name": "python"
    }
  },
  "cells": [
    {
      "cell_type": "markdown",
      "metadata": {
        "id": "view-in-github",
        "colab_type": "text"
      },
      "source": [
        "<a href=\"https://colab.research.google.com/github/rafael-ferraz/MVP_Sprint3/blob/main/mvp_insuficiencia_cardiaca.ipynb\" target=\"_parent\"><img src=\"https://colab.research.google.com/assets/colab-badge.svg\" alt=\"Open In Colab\"/></a>"
      ]
    },
    {
      "cell_type": "markdown",
      "source": [
        "## MVP - Predição de Pacientes com Insuficiência Cardíaca\n",
        "Sprint: Machine Learning & Analytics<br>\n",
        "Aluno: Rafael Ferraz de Queiroz<br>"
      ],
      "metadata": {
        "id": "niNpuMpx97im"
      }
    },
    {
      "cell_type": "markdown",
      "source": [
        "# Sobre o Problema"
      ],
      "metadata": {
        "id": "TZ-aGfB_HKre"
      }
    },
    {
      "cell_type": "markdown",
      "source": [
        "O problema proposto neste MVP é a predição de doença cardíaca em pacientes a partir da análise de atributos clínicos de uma amostra de casos, com a patologia confirmada ou não.\n",
        "\n",
        "Segundo dados de 2020 da OMS, as doenças cardiovasculares foram responsáveis pela morte de 1/3 das mulheres no mundo. Partindo dessa premissa, eu estimo que o modelo sugerido neste MVP consiga também demonstrar essas características.\n",
        "\n",
        "No decorrer deste projeto, serão demonstradas as etapas que vão desde a preparação dos dados até o treinamento dos modelos, para que ao final possa ser feita uma análise para determinar qual apresenta melhor acurácia para o contexto deste problema."
      ],
      "metadata": {
        "id": "BQ-4pKXrHUVg"
      }
    },
    {
      "cell_type": "markdown",
      "source": [
        "## Restrições e Condições\n",
        "\n",
        "De acordo com o autor do repositório do dataset utilizado neste MVP, ele é o conjunto de outros datasets do coração disponíveis individualmente mas nunca combinados antes. Inicialmente haviam 1190 observações, mas realizadas tratativas para remoção de duplicatas, resultaram em 918 observações."
      ],
      "metadata": {
        "id": "k1o9-i3BWwb-"
      }
    },
    {
      "cell_type": "markdown",
      "source": [
        "# Sobre o Dataset\n",
        "\n",
        "O *Heart Failure Dataset* foi obtido da plataforma *Kaggle* e possui atributos que são características clínicas de pacientes que tiveram ou não doença cardíaca. Ele é do tipo supervisionado, com uma classe preditora e 11 atributos previsores.\n",
        "\n",
        "Trata-se de um dataset bem avaliado pelos profissionais de aprendizado de máquina da plataforma nos quesitos de completude, credibilidade e compatibilidade.\n",
        "\n",
        "Link do dataset: https://www.kaggle.com/datasets/fedesoriano/heart-failure-prediction"
      ],
      "metadata": {
        "id": "t8QCNix2J49J"
      }
    },
    {
      "cell_type": "markdown",
      "source": [
        "## Descrição dos Atributos\n",
        "\n",
        "| Nome | Descrição |\n",
        "|:-----|:----------|\n",
        "|Age|Idade do Paciente|\n",
        "|Sex|Sexo do paciente|\n",
        "|ChestPainType|Tipo de dor no peito|\n",
        "|RestingBP|Pressão sanguínea em repouso|\n",
        "|Cholesterol|Medida de colesterol|\n",
        "|FastingBS|Pressão sanguínea em jejum|\n",
        "|RestingECG|Resultado de eletrocardiograma em repouso|\n",
        "|MaxHR|Taxa máxima de batimento cardíaco|\n",
        "|ExerciseAngina|Dor no coração ao exercitar|\n",
        "|oldpeak|Depressão ST induzida pelo exercício|\n",
        "|ST_Slope|O declive do pico de depressão ST induzida pelo exercício|\n",
        "|HeartDisease|Classe preditora|\n"
      ],
      "metadata": {
        "id": "69eaouAIXVHf"
      }
    },
    {
      "cell_type": "markdown",
      "source": [
        "# Importação das Ferramentas\n",
        "Nesta etapa importaremos as configurações e ferramentas necessárias para as ações no decorrer desse projeto."
      ],
      "metadata": {
        "id": "jFOGxz9S8Lqh"
      }
    },
    {
      "cell_type": "code",
      "source": [
        "# Oculta as mensagens do tipo alerta\n",
        "import warnings\n",
        "warnings.filterwarnings(\"ignore\")\n",
        "\n",
        "import pandas as pd\n",
        "import numpy as np\n",
        "import matplotlib.pyplot as plt # Ferramenta para plotar gráficos\n",
        "from sklearn.feature_selection import SelectKBest # Método para a Seleção Univariada\n",
        "from sklearn.feature_selection import f_classif # Para o teste ANOVA da seleção univariada\n",
        "from sklearn.model_selection import train_test_split # Para dividir as amostras em treino e teste\n",
        "from sklearn.model_selection import KFold # Para realizar a validação cruzada\n",
        "from sklearn.model_selection import cross_val_score # Pontuação por Validação Cruzada\n",
        "from sklearn.model_selection import GridSearchCV # Recurso de Grid Search\n",
        "from sklearn.metrics import accuracy_score # Para a exibição da acurácia do modelo\n",
        "from sklearn.preprocessing import MinMaxScaler # Para tratamento de normalização\n",
        "from sklearn.preprocessing import LabelEncoder # Para tratamento de dados categórico\n",
        "from sklearn.linear_model import LogisticRegression # Para a técnica de Regressão Logistica\n",
        "from sklearn.tree import DecisionTreeClassifier # Para a técnica de Árvore de Classificação\n",
        "from sklearn.neighbors import KNeighborsClassifier # Para a técnica de KNN\n",
        "from sklearn.naive_bayes import GaussianNB # Para a técnica de Naive Bayes\n",
        "from sklearn.svm import SVC # Para a técnica de SVM\n",
        "from sklearn.ensemble import VotingClassifier # Para a técnica de Voting"
      ],
      "metadata": {
        "id": "tf61Wfpj8Uyw"
      },
      "execution_count": 154,
      "outputs": []
    },
    {
      "cell_type": "markdown",
      "source": [
        "# Importação e análise do Dataset\n",
        "Aqui iremos realizar a importação do dataset através do arquivo CSV, analisando as informações para conhecer melhor como os dados estão preenchidos e elucidar quanto à necessidade de limpeza e preparação dos dados para o treinamento."
      ],
      "metadata": {
        "id": "BO6Etxrg9bv4"
      }
    },
    {
      "cell_type": "code",
      "source": [
        "# armazena o dataset para utilização no notebook\n",
        "dataset_original = pd.read_csv('https://raw.githubusercontent.com/rafael-ferraz/MVP_Sprint3/main/heart.csv', sep=',')\n",
        "\n",
        "# lista o cabeçalho e as primeiras linhas do dataset\n",
        "dataset_original.head()"
      ],
      "metadata": {
        "colab": {
          "base_uri": "https://localhost:8080/",
          "height": 206
        },
        "id": "4XrA-Fth9iRg",
        "outputId": "1529ac4c-777c-457f-a230-c635368a2779"
      },
      "execution_count": 155,
      "outputs": [
        {
          "output_type": "execute_result",
          "data": {
            "text/plain": [
              "   Age Sex ChestPainType  RestingBP  Cholesterol  FastingBS RestingECG  MaxHR  \\\n",
              "0   40   M           ATA        140          289          0     Normal    172   \n",
              "1   49   F           NAP        160          180          0     Normal    156   \n",
              "2   37   M           ATA        130          283          0         ST     98   \n",
              "3   48   F           ASY        138          214          0     Normal    108   \n",
              "4   54   M           NAP        150          195          0     Normal    122   \n",
              "\n",
              "  ExerciseAngina  Oldpeak ST_Slope  HeartDisease  \n",
              "0              N      0.0       Up             0  \n",
              "1              N      1.0     Flat             1  \n",
              "2              N      0.0       Up             0  \n",
              "3              Y      1.5     Flat             1  \n",
              "4              N      0.0       Up             0  "
            ],
            "text/html": [
              "\n",
              "  <div id=\"df-addd6d73-abb9-4b0c-87ba-0a2056650698\" class=\"colab-df-container\">\n",
              "    <div>\n",
              "<style scoped>\n",
              "    .dataframe tbody tr th:only-of-type {\n",
              "        vertical-align: middle;\n",
              "    }\n",
              "\n",
              "    .dataframe tbody tr th {\n",
              "        vertical-align: top;\n",
              "    }\n",
              "\n",
              "    .dataframe thead th {\n",
              "        text-align: right;\n",
              "    }\n",
              "</style>\n",
              "<table border=\"1\" class=\"dataframe\">\n",
              "  <thead>\n",
              "    <tr style=\"text-align: right;\">\n",
              "      <th></th>\n",
              "      <th>Age</th>\n",
              "      <th>Sex</th>\n",
              "      <th>ChestPainType</th>\n",
              "      <th>RestingBP</th>\n",
              "      <th>Cholesterol</th>\n",
              "      <th>FastingBS</th>\n",
              "      <th>RestingECG</th>\n",
              "      <th>MaxHR</th>\n",
              "      <th>ExerciseAngina</th>\n",
              "      <th>Oldpeak</th>\n",
              "      <th>ST_Slope</th>\n",
              "      <th>HeartDisease</th>\n",
              "    </tr>\n",
              "  </thead>\n",
              "  <tbody>\n",
              "    <tr>\n",
              "      <th>0</th>\n",
              "      <td>40</td>\n",
              "      <td>M</td>\n",
              "      <td>ATA</td>\n",
              "      <td>140</td>\n",
              "      <td>289</td>\n",
              "      <td>0</td>\n",
              "      <td>Normal</td>\n",
              "      <td>172</td>\n",
              "      <td>N</td>\n",
              "      <td>0.0</td>\n",
              "      <td>Up</td>\n",
              "      <td>0</td>\n",
              "    </tr>\n",
              "    <tr>\n",
              "      <th>1</th>\n",
              "      <td>49</td>\n",
              "      <td>F</td>\n",
              "      <td>NAP</td>\n",
              "      <td>160</td>\n",
              "      <td>180</td>\n",
              "      <td>0</td>\n",
              "      <td>Normal</td>\n",
              "      <td>156</td>\n",
              "      <td>N</td>\n",
              "      <td>1.0</td>\n",
              "      <td>Flat</td>\n",
              "      <td>1</td>\n",
              "    </tr>\n",
              "    <tr>\n",
              "      <th>2</th>\n",
              "      <td>37</td>\n",
              "      <td>M</td>\n",
              "      <td>ATA</td>\n",
              "      <td>130</td>\n",
              "      <td>283</td>\n",
              "      <td>0</td>\n",
              "      <td>ST</td>\n",
              "      <td>98</td>\n",
              "      <td>N</td>\n",
              "      <td>0.0</td>\n",
              "      <td>Up</td>\n",
              "      <td>0</td>\n",
              "    </tr>\n",
              "    <tr>\n",
              "      <th>3</th>\n",
              "      <td>48</td>\n",
              "      <td>F</td>\n",
              "      <td>ASY</td>\n",
              "      <td>138</td>\n",
              "      <td>214</td>\n",
              "      <td>0</td>\n",
              "      <td>Normal</td>\n",
              "      <td>108</td>\n",
              "      <td>Y</td>\n",
              "      <td>1.5</td>\n",
              "      <td>Flat</td>\n",
              "      <td>1</td>\n",
              "    </tr>\n",
              "    <tr>\n",
              "      <th>4</th>\n",
              "      <td>54</td>\n",
              "      <td>M</td>\n",
              "      <td>NAP</td>\n",
              "      <td>150</td>\n",
              "      <td>195</td>\n",
              "      <td>0</td>\n",
              "      <td>Normal</td>\n",
              "      <td>122</td>\n",
              "      <td>N</td>\n",
              "      <td>0.0</td>\n",
              "      <td>Up</td>\n",
              "      <td>0</td>\n",
              "    </tr>\n",
              "  </tbody>\n",
              "</table>\n",
              "</div>\n",
              "    <div class=\"colab-df-buttons\">\n",
              "\n",
              "  <div class=\"colab-df-container\">\n",
              "    <button class=\"colab-df-convert\" onclick=\"convertToInteractive('df-addd6d73-abb9-4b0c-87ba-0a2056650698')\"\n",
              "            title=\"Convert this dataframe to an interactive table.\"\n",
              "            style=\"display:none;\">\n",
              "\n",
              "  <svg xmlns=\"http://www.w3.org/2000/svg\" height=\"24px\" viewBox=\"0 -960 960 960\">\n",
              "    <path d=\"M120-120v-720h720v720H120Zm60-500h600v-160H180v160Zm220 220h160v-160H400v160Zm0 220h160v-160H400v160ZM180-400h160v-160H180v160Zm440 0h160v-160H620v160ZM180-180h160v-160H180v160Zm440 0h160v-160H620v160Z\"/>\n",
              "  </svg>\n",
              "    </button>\n",
              "\n",
              "  <style>\n",
              "    .colab-df-container {\n",
              "      display:flex;\n",
              "      gap: 12px;\n",
              "    }\n",
              "\n",
              "    .colab-df-convert {\n",
              "      background-color: #E8F0FE;\n",
              "      border: none;\n",
              "      border-radius: 50%;\n",
              "      cursor: pointer;\n",
              "      display: none;\n",
              "      fill: #1967D2;\n",
              "      height: 32px;\n",
              "      padding: 0 0 0 0;\n",
              "      width: 32px;\n",
              "    }\n",
              "\n",
              "    .colab-df-convert:hover {\n",
              "      background-color: #E2EBFA;\n",
              "      box-shadow: 0px 1px 2px rgba(60, 64, 67, 0.3), 0px 1px 3px 1px rgba(60, 64, 67, 0.15);\n",
              "      fill: #174EA6;\n",
              "    }\n",
              "\n",
              "    .colab-df-buttons div {\n",
              "      margin-bottom: 4px;\n",
              "    }\n",
              "\n",
              "    [theme=dark] .colab-df-convert {\n",
              "      background-color: #3B4455;\n",
              "      fill: #D2E3FC;\n",
              "    }\n",
              "\n",
              "    [theme=dark] .colab-df-convert:hover {\n",
              "      background-color: #434B5C;\n",
              "      box-shadow: 0px 1px 3px 1px rgba(0, 0, 0, 0.15);\n",
              "      filter: drop-shadow(0px 1px 2px rgba(0, 0, 0, 0.3));\n",
              "      fill: #FFFFFF;\n",
              "    }\n",
              "  </style>\n",
              "\n",
              "    <script>\n",
              "      const buttonEl =\n",
              "        document.querySelector('#df-addd6d73-abb9-4b0c-87ba-0a2056650698 button.colab-df-convert');\n",
              "      buttonEl.style.display =\n",
              "        google.colab.kernel.accessAllowed ? 'block' : 'none';\n",
              "\n",
              "      async function convertToInteractive(key) {\n",
              "        const element = document.querySelector('#df-addd6d73-abb9-4b0c-87ba-0a2056650698');\n",
              "        const dataTable =\n",
              "          await google.colab.kernel.invokeFunction('convertToInteractive',\n",
              "                                                    [key], {});\n",
              "        if (!dataTable) return;\n",
              "\n",
              "        const docLinkHtml = 'Like what you see? Visit the ' +\n",
              "          '<a target=\"_blank\" href=https://colab.research.google.com/notebooks/data_table.ipynb>data table notebook</a>'\n",
              "          + ' to learn more about interactive tables.';\n",
              "        element.innerHTML = '';\n",
              "        dataTable['output_type'] = 'display_data';\n",
              "        await google.colab.output.renderOutput(dataTable, element);\n",
              "        const docLink = document.createElement('div');\n",
              "        docLink.innerHTML = docLinkHtml;\n",
              "        element.appendChild(docLink);\n",
              "      }\n",
              "    </script>\n",
              "  </div>\n",
              "\n",
              "\n",
              "<div id=\"df-5625bff1-0799-4753-8d00-80b555cd9501\">\n",
              "  <button class=\"colab-df-quickchart\" onclick=\"quickchart('df-5625bff1-0799-4753-8d00-80b555cd9501')\"\n",
              "            title=\"Suggest charts\"\n",
              "            style=\"display:none;\">\n",
              "\n",
              "<svg xmlns=\"http://www.w3.org/2000/svg\" height=\"24px\"viewBox=\"0 0 24 24\"\n",
              "     width=\"24px\">\n",
              "    <g>\n",
              "        <path d=\"M19 3H5c-1.1 0-2 .9-2 2v14c0 1.1.9 2 2 2h14c1.1 0 2-.9 2-2V5c0-1.1-.9-2-2-2zM9 17H7v-7h2v7zm4 0h-2V7h2v10zm4 0h-2v-4h2v4z\"/>\n",
              "    </g>\n",
              "</svg>\n",
              "  </button>\n",
              "\n",
              "<style>\n",
              "  .colab-df-quickchart {\n",
              "      --bg-color: #E8F0FE;\n",
              "      --fill-color: #1967D2;\n",
              "      --hover-bg-color: #E2EBFA;\n",
              "      --hover-fill-color: #174EA6;\n",
              "      --disabled-fill-color: #AAA;\n",
              "      --disabled-bg-color: #DDD;\n",
              "  }\n",
              "\n",
              "  [theme=dark] .colab-df-quickchart {\n",
              "      --bg-color: #3B4455;\n",
              "      --fill-color: #D2E3FC;\n",
              "      --hover-bg-color: #434B5C;\n",
              "      --hover-fill-color: #FFFFFF;\n",
              "      --disabled-bg-color: #3B4455;\n",
              "      --disabled-fill-color: #666;\n",
              "  }\n",
              "\n",
              "  .colab-df-quickchart {\n",
              "    background-color: var(--bg-color);\n",
              "    border: none;\n",
              "    border-radius: 50%;\n",
              "    cursor: pointer;\n",
              "    display: none;\n",
              "    fill: var(--fill-color);\n",
              "    height: 32px;\n",
              "    padding: 0;\n",
              "    width: 32px;\n",
              "  }\n",
              "\n",
              "  .colab-df-quickchart:hover {\n",
              "    background-color: var(--hover-bg-color);\n",
              "    box-shadow: 0 1px 2px rgba(60, 64, 67, 0.3), 0 1px 3px 1px rgba(60, 64, 67, 0.15);\n",
              "    fill: var(--button-hover-fill-color);\n",
              "  }\n",
              "\n",
              "  .colab-df-quickchart-complete:disabled,\n",
              "  .colab-df-quickchart-complete:disabled:hover {\n",
              "    background-color: var(--disabled-bg-color);\n",
              "    fill: var(--disabled-fill-color);\n",
              "    box-shadow: none;\n",
              "  }\n",
              "\n",
              "  .colab-df-spinner {\n",
              "    border: 2px solid var(--fill-color);\n",
              "    border-color: transparent;\n",
              "    border-bottom-color: var(--fill-color);\n",
              "    animation:\n",
              "      spin 1s steps(1) infinite;\n",
              "  }\n",
              "\n",
              "  @keyframes spin {\n",
              "    0% {\n",
              "      border-color: transparent;\n",
              "      border-bottom-color: var(--fill-color);\n",
              "      border-left-color: var(--fill-color);\n",
              "    }\n",
              "    20% {\n",
              "      border-color: transparent;\n",
              "      border-left-color: var(--fill-color);\n",
              "      border-top-color: var(--fill-color);\n",
              "    }\n",
              "    30% {\n",
              "      border-color: transparent;\n",
              "      border-left-color: var(--fill-color);\n",
              "      border-top-color: var(--fill-color);\n",
              "      border-right-color: var(--fill-color);\n",
              "    }\n",
              "    40% {\n",
              "      border-color: transparent;\n",
              "      border-right-color: var(--fill-color);\n",
              "      border-top-color: var(--fill-color);\n",
              "    }\n",
              "    60% {\n",
              "      border-color: transparent;\n",
              "      border-right-color: var(--fill-color);\n",
              "    }\n",
              "    80% {\n",
              "      border-color: transparent;\n",
              "      border-right-color: var(--fill-color);\n",
              "      border-bottom-color: var(--fill-color);\n",
              "    }\n",
              "    90% {\n",
              "      border-color: transparent;\n",
              "      border-bottom-color: var(--fill-color);\n",
              "    }\n",
              "  }\n",
              "</style>\n",
              "\n",
              "  <script>\n",
              "    async function quickchart(key) {\n",
              "      const quickchartButtonEl =\n",
              "        document.querySelector('#' + key + ' button');\n",
              "      quickchartButtonEl.disabled = true;  // To prevent multiple clicks.\n",
              "      quickchartButtonEl.classList.add('colab-df-spinner');\n",
              "      try {\n",
              "        const charts = await google.colab.kernel.invokeFunction(\n",
              "            'suggestCharts', [key], {});\n",
              "      } catch (error) {\n",
              "        console.error('Error during call to suggestCharts:', error);\n",
              "      }\n",
              "      quickchartButtonEl.classList.remove('colab-df-spinner');\n",
              "      quickchartButtonEl.classList.add('colab-df-quickchart-complete');\n",
              "    }\n",
              "    (() => {\n",
              "      let quickchartButtonEl =\n",
              "        document.querySelector('#df-5625bff1-0799-4753-8d00-80b555cd9501 button');\n",
              "      quickchartButtonEl.style.display =\n",
              "        google.colab.kernel.accessAllowed ? 'block' : 'none';\n",
              "    })();\n",
              "  </script>\n",
              "</div>\n",
              "\n",
              "    </div>\n",
              "  </div>\n"
            ],
            "application/vnd.google.colaboratory.intrinsic+json": {
              "type": "dataframe",
              "variable_name": "dataset_original",
              "summary": "{\n  \"name\": \"dataset_original\",\n  \"rows\": 918,\n  \"fields\": [\n    {\n      \"column\": \"Age\",\n      \"properties\": {\n        \"dtype\": \"number\",\n        \"std\": 9,\n        \"min\": 28,\n        \"max\": 77,\n        \"num_unique_values\": 50,\n        \"samples\": [\n          44,\n          68,\n          66\n        ],\n        \"semantic_type\": \"\",\n        \"description\": \"\"\n      }\n    },\n    {\n      \"column\": \"Sex\",\n      \"properties\": {\n        \"dtype\": \"category\",\n        \"num_unique_values\": 2,\n        \"samples\": [\n          \"F\",\n          \"M\"\n        ],\n        \"semantic_type\": \"\",\n        \"description\": \"\"\n      }\n    },\n    {\n      \"column\": \"ChestPainType\",\n      \"properties\": {\n        \"dtype\": \"category\",\n        \"num_unique_values\": 4,\n        \"samples\": [\n          \"NAP\",\n          \"TA\"\n        ],\n        \"semantic_type\": \"\",\n        \"description\": \"\"\n      }\n    },\n    {\n      \"column\": \"RestingBP\",\n      \"properties\": {\n        \"dtype\": \"number\",\n        \"std\": 18,\n        \"min\": 0,\n        \"max\": 200,\n        \"num_unique_values\": 67,\n        \"samples\": [\n          165,\n          118\n        ],\n        \"semantic_type\": \"\",\n        \"description\": \"\"\n      }\n    },\n    {\n      \"column\": \"Cholesterol\",\n      \"properties\": {\n        \"dtype\": \"number\",\n        \"std\": 109,\n        \"min\": 0,\n        \"max\": 603,\n        \"num_unique_values\": 222,\n        \"samples\": [\n          305,\n          321\n        ],\n        \"semantic_type\": \"\",\n        \"description\": \"\"\n      }\n    },\n    {\n      \"column\": \"FastingBS\",\n      \"properties\": {\n        \"dtype\": \"number\",\n        \"std\": 0,\n        \"min\": 0,\n        \"max\": 1,\n        \"num_unique_values\": 2,\n        \"samples\": [\n          1,\n          0\n        ],\n        \"semantic_type\": \"\",\n        \"description\": \"\"\n      }\n    },\n    {\n      \"column\": \"RestingECG\",\n      \"properties\": {\n        \"dtype\": \"category\",\n        \"num_unique_values\": 3,\n        \"samples\": [\n          \"Normal\",\n          \"ST\"\n        ],\n        \"semantic_type\": \"\",\n        \"description\": \"\"\n      }\n    },\n    {\n      \"column\": \"MaxHR\",\n      \"properties\": {\n        \"dtype\": \"number\",\n        \"std\": 25,\n        \"min\": 60,\n        \"max\": 202,\n        \"num_unique_values\": 119,\n        \"samples\": [\n          132,\n          157\n        ],\n        \"semantic_type\": \"\",\n        \"description\": \"\"\n      }\n    },\n    {\n      \"column\": \"ExerciseAngina\",\n      \"properties\": {\n        \"dtype\": \"category\",\n        \"num_unique_values\": 2,\n        \"samples\": [\n          \"Y\",\n          \"N\"\n        ],\n        \"semantic_type\": \"\",\n        \"description\": \"\"\n      }\n    },\n    {\n      \"column\": \"Oldpeak\",\n      \"properties\": {\n        \"dtype\": \"number\",\n        \"std\": 1.0665701510493257,\n        \"min\": -2.6,\n        \"max\": 6.2,\n        \"num_unique_values\": 53,\n        \"samples\": [\n          1.3,\n          0.6\n        ],\n        \"semantic_type\": \"\",\n        \"description\": \"\"\n      }\n    },\n    {\n      \"column\": \"ST_Slope\",\n      \"properties\": {\n        \"dtype\": \"category\",\n        \"num_unique_values\": 3,\n        \"samples\": [\n          \"Up\",\n          \"Flat\"\n        ],\n        \"semantic_type\": \"\",\n        \"description\": \"\"\n      }\n    },\n    {\n      \"column\": \"HeartDisease\",\n      \"properties\": {\n        \"dtype\": \"number\",\n        \"std\": 0,\n        \"min\": 0,\n        \"max\": 1,\n        \"num_unique_values\": 2,\n        \"samples\": [\n          1,\n          0\n        ],\n        \"semantic_type\": \"\",\n        \"description\": \"\"\n      }\n    }\n  ]\n}"
            }
          },
          "metadata": {},
          "execution_count": 155
        }
      ]
    },
    {
      "cell_type": "markdown",
      "source": [
        "Analisando a saída acima, é possível notar que o dataset é composto por dados numéricos (discretos e contínuos) e categóricos, além de uma classe preditora do tipo numérica."
      ],
      "metadata": {
        "id": "B4PXmLruI8ov"
      }
    },
    {
      "cell_type": "code",
      "source": [
        "# Informações sobre o dataset\n",
        "dataset_original.info()"
      ],
      "metadata": {
        "colab": {
          "base_uri": "https://localhost:8080/"
        },
        "id": "0GTtNJxSTVaY",
        "outputId": "b9a51c66-3ba3-45ba-bd21-6a4960f4ae6c"
      },
      "execution_count": 156,
      "outputs": [
        {
          "output_type": "stream",
          "name": "stdout",
          "text": [
            "<class 'pandas.core.frame.DataFrame'>\n",
            "RangeIndex: 918 entries, 0 to 917\n",
            "Data columns (total 12 columns):\n",
            " #   Column          Non-Null Count  Dtype  \n",
            "---  ------          --------------  -----  \n",
            " 0   Age             918 non-null    int64  \n",
            " 1   Sex             918 non-null    object \n",
            " 2   ChestPainType   918 non-null    object \n",
            " 3   RestingBP       918 non-null    int64  \n",
            " 4   Cholesterol     918 non-null    int64  \n",
            " 5   FastingBS       918 non-null    int64  \n",
            " 6   RestingECG      918 non-null    object \n",
            " 7   MaxHR           918 non-null    int64  \n",
            " 8   ExerciseAngina  918 non-null    object \n",
            " 9   Oldpeak         918 non-null    float64\n",
            " 10  ST_Slope        918 non-null    object \n",
            " 11  HeartDisease    918 non-null    int64  \n",
            "dtypes: float64(1), int64(6), object(5)\n",
            "memory usage: 86.2+ KB\n"
          ]
        }
      ]
    },
    {
      "cell_type": "markdown",
      "source": [
        "Aqui podemos notar que o dataset possui 918 registros, 12 colunas, nenhum valor nulo e alguns campos do tipo \"object\" que necessitam ser analisados."
      ],
      "metadata": {
        "id": "NO-LHkNETeNz"
      }
    },
    {
      "cell_type": "code",
      "source": [
        "# Verificar o quantitativo do preditor\n",
        "dataset_original.groupby('HeartDisease').size()"
      ],
      "metadata": {
        "colab": {
          "base_uri": "https://localhost:8080/"
        },
        "id": "71YCXTfTV2Y3",
        "outputId": "e6375dfe-341b-4cdc-8427-d39440ba0d4f"
      },
      "execution_count": 157,
      "outputs": [
        {
          "output_type": "execute_result",
          "data": {
            "text/plain": [
              "HeartDisease\n",
              "0    410\n",
              "1    508\n",
              "dtype: int64"
            ]
          },
          "metadata": {},
          "execution_count": 157
        }
      ]
    },
    {
      "cell_type": "markdown",
      "source": [
        "Acima podemos notar que o preditor(HeartDisease) encontra-se balanceado entre pacientes com ou sem doenças cardíacas(respectivamente 1 e 0)."
      ],
      "metadata": {
        "id": "s48cSnm8WJ8i"
      }
    },
    {
      "cell_type": "code",
      "source": [
        "# Verificar os atributos categóricos\n",
        "print('Sex: ',dataset_original['Sex'].unique())\n",
        "print('ChestPainType: ',dataset_original['ChestPainType'].unique())\n",
        "print('RestingECG: ',dataset_original['RestingECG'].unique())\n",
        "print('ExerciseAngina: ',dataset_original['ExerciseAngina'].unique())\n",
        "print('ST_Slope: ',dataset_original['ST_Slope'].unique())\n"
      ],
      "metadata": {
        "colab": {
          "base_uri": "https://localhost:8080/"
        },
        "id": "t-ITnSnthSbR",
        "outputId": "058c1001-8b99-4f8c-c06c-108cb5fefe78"
      },
      "execution_count": 158,
      "outputs": [
        {
          "output_type": "stream",
          "name": "stdout",
          "text": [
            "Sex:  ['M' 'F']\n",
            "ChestPainType:  ['ATA' 'NAP' 'ASY' 'TA']\n",
            "RestingECG:  ['Normal' 'ST' 'LVH']\n",
            "ExerciseAngina:  ['N' 'Y']\n",
            "ST_Slope:  ['Up' 'Flat' 'Down']\n"
          ]
        }
      ]
    },
    {
      "cell_type": "markdown",
      "source": [
        "Acima podemos perceber os valores distintos dos atributos categóricos. Para estes atributos será necessário realizar a conversão para que tornem-se atributos numéricos."
      ],
      "metadata": {
        "id": "xyQioIRgibfu"
      }
    },
    {
      "cell_type": "code",
      "source": [
        "# Plotagem de histogramas dos atributos numéricos\n",
        "dataset_original.hist(figsize = (15,10))\n",
        "plt.show()"
      ],
      "metadata": {
        "colab": {
          "base_uri": "https://localhost:8080/",
          "height": 853
        },
        "id": "pO92msRysQV2",
        "outputId": "2dd9d7bf-9f87-4497-ed7f-cd416f6a0221"
      },
      "execution_count": 159,
      "outputs": [
        {
          "output_type": "display_data",
          "data": {
            "text/plain": [
              "<Figure size 1500x1000 with 9 Axes>"
            ],
            "image/png": "[encoded data removed]"
          },
          "metadata": {}
        }
      ]
    },
    {
      "cell_type": "markdown",
      "source": [
        "Acima podemos ver os histogramas dos atributos numéricos do dataset, apresentando um padrão de distribuição normal em alguns atributos (como <i>Age</i> e <i>MaxHR</i>). Estes dados serão normalizados na etapa de transformação."
      ],
      "metadata": {
        "id": "PUrwWS1TsaEt"
      }
    },
    {
      "cell_type": "markdown",
      "source": [
        "# Pré-processamento dos Dados"
      ],
      "metadata": {
        "id": "hL2Nec1qL2a2"
      }
    },
    {
      "cell_type": "markdown",
      "source": [
        "Aqui iremos fazer as tratativas no dataset que foram identificadas na etapa de análise, para que o mesmo esteja adequado para o treinamento. A partir desta etapa utilizaremos versões diferentes do dataset para possíveis comparações posteriores."
      ],
      "metadata": {
        "id": "HrnK1qKNL9BG"
      }
    },
    {
      "cell_type": "markdown",
      "source": [
        "## Tratamento de Dados Numéricos\n",
        "Nesta etapa faremos a normalização dos atributos numéricos com o método <i>MinMaxScaler</i> da biblioteca scikit-learn."
      ],
      "metadata": {
        "id": "g8_k2kZkYjzs"
      }
    },
    {
      "cell_type": "code",
      "source": [
        "# Versionamento do Dataset\n",
        "dataset_normalized = dataset_original.copy()\n",
        "\n",
        "# Definição do transformador\n",
        "scaler = MinMaxScaler()\n",
        "\n",
        "# Normaliza os atributos numéricos\n",
        "age = scaler.fit_transform(dataset_normalized[['Age']])\n",
        "restingbp = scaler.fit_transform(dataset_normalized[['RestingBP']])\n",
        "cholesterol = scaler.fit_transform(dataset_normalized[['Cholesterol']])\n",
        "fastingbs = scaler.fit_transform(dataset_normalized[['FastingBS']])\n",
        "maxhr = scaler.fit_transform(dataset_normalized[['MaxHR']])\n",
        "oldpeak = scaler.fit_transform(dataset_normalized[['Oldpeak']])\n",
        "\n",
        "# Atribui os parâmetros normalizados ao dataset\n",
        "dataset_normalized['Age'] = age\n",
        "dataset_normalized['RestingBP'] = restingbp\n",
        "dataset_normalized['Cholesterol'] = cholesterol\n",
        "dataset_normalized['FastingBS'] = fastingbs\n",
        "dataset_normalized['MaxHR'] = maxhr\n",
        "dataset_normalized['Oldpeak'] = oldpeak\n",
        "\n",
        "# Exibe o dataset na tela\n",
        "dataset_normalized.head()\n",
        "\n"
      ],
      "metadata": {
        "colab": {
          "base_uri": "https://localhost:8080/",
          "height": 206
        },
        "id": "y3UbEHlGjozD",
        "outputId": "9c5b53c2-6cc4-4a9f-8602-698cdb4d8f86"
      },
      "execution_count": 160,
      "outputs": [
        {
          "output_type": "execute_result",
          "data": {
            "text/plain": [
              "        Age Sex ChestPainType  RestingBP  Cholesterol  FastingBS RestingECG  \\\n",
              "0  0.244898   M           ATA       0.70     0.479270        0.0     Normal   \n",
              "1  0.428571   F           NAP       0.80     0.298507        0.0     Normal   \n",
              "2  0.183673   M           ATA       0.65     0.469320        0.0         ST   \n",
              "3  0.408163   F           ASY       0.69     0.354892        0.0     Normal   \n",
              "4  0.530612   M           NAP       0.75     0.323383        0.0     Normal   \n",
              "\n",
              "      MaxHR ExerciseAngina   Oldpeak ST_Slope  HeartDisease  \n",
              "0  0.788732              N  0.295455       Up             0  \n",
              "1  0.676056              N  0.409091     Flat             1  \n",
              "2  0.267606              N  0.295455       Up             0  \n",
              "3  0.338028              Y  0.465909     Flat             1  \n",
              "4  0.436620              N  0.295455       Up             0  "
            ],
            "text/html": [
              "\n",
              "  <div id=\"df-bccabb95-005a-4a5d-af7f-c5290a056ad9\" class=\"colab-df-container\">\n",
              "    <div>\n",
              "<style scoped>\n",
              "    .dataframe tbody tr th:only-of-type {\n",
              "        vertical-align: middle;\n",
              "    }\n",
              "\n",
              "    .dataframe tbody tr th {\n",
              "        vertical-align: top;\n",
              "    }\n",
              "\n",
              "    .dataframe thead th {\n",
              "        text-align: right;\n",
              "    }\n",
              "</style>\n",
              "<table border=\"1\" class=\"dataframe\">\n",
              "  <thead>\n",
              "    <tr style=\"text-align: right;\">\n",
              "      <th></th>\n",
              "      <th>Age</th>\n",
              "      <th>Sex</th>\n",
              "      <th>ChestPainType</th>\n",
              "      <th>RestingBP</th>\n",
              "      <th>Cholesterol</th>\n",
              "      <th>FastingBS</th>\n",
              "      <th>RestingECG</th>\n",
              "      <th>MaxHR</th>\n",
              "      <th>ExerciseAngina</th>\n",
              "      <th>Oldpeak</th>\n",
              "      <th>ST_Slope</th>\n",
              "      <th>HeartDisease</th>\n",
              "    </tr>\n",
              "  </thead>\n",
              "  <tbody>\n",
              "    <tr>\n",
              "      <th>0</th>\n",
              "      <td>0.244898</td>\n",
              "      <td>M</td>\n",
              "      <td>ATA</td>\n",
              "      <td>0.70</td>\n",
              "      <td>0.479270</td>\n",
              "      <td>0.0</td>\n",
              "      <td>Normal</td>\n",
              "      <td>0.788732</td>\n",
              "      <td>N</td>\n",
              "      <td>0.295455</td>\n",
              "      <td>Up</td>\n",
              "      <td>0</td>\n",
              "    </tr>\n",
              "    <tr>\n",
              "      <th>1</th>\n",
              "      <td>0.428571</td>\n",
              "      <td>F</td>\n",
              "      <td>NAP</td>\n",
              "      <td>0.80</td>\n",
              "      <td>0.298507</td>\n",
              "      <td>0.0</td>\n",
              "      <td>Normal</td>\n",
              "      <td>0.676056</td>\n",
              "      <td>N</td>\n",
              "      <td>0.409091</td>\n",
              "      <td>Flat</td>\n",
              "      <td>1</td>\n",
              "    </tr>\n",
              "    <tr>\n",
              "      <th>2</th>\n",
              "      <td>0.183673</td>\n",
              "      <td>M</td>\n",
              "      <td>ATA</td>\n",
              "      <td>0.65</td>\n",
              "      <td>0.469320</td>\n",
              "      <td>0.0</td>\n",
              "      <td>ST</td>\n",
              "      <td>0.267606</td>\n",
              "      <td>N</td>\n",
              "      <td>0.295455</td>\n",
              "      <td>Up</td>\n",
              "      <td>0</td>\n",
              "    </tr>\n",
              "    <tr>\n",
              "      <th>3</th>\n",
              "      <td>0.408163</td>\n",
              "      <td>F</td>\n",
              "      <td>ASY</td>\n",
              "      <td>0.69</td>\n",
              "      <td>0.354892</td>\n",
              "      <td>0.0</td>\n",
              "      <td>Normal</td>\n",
              "      <td>0.338028</td>\n",
              "      <td>Y</td>\n",
              "      <td>0.465909</td>\n",
              "      <td>Flat</td>\n",
              "      <td>1</td>\n",
              "    </tr>\n",
              "    <tr>\n",
              "      <th>4</th>\n",
              "      <td>0.530612</td>\n",
              "      <td>M</td>\n",
              "      <td>NAP</td>\n",
              "      <td>0.75</td>\n",
              "      <td>0.323383</td>\n",
              "      <td>0.0</td>\n",
              "      <td>Normal</td>\n",
              "      <td>0.436620</td>\n",
              "      <td>N</td>\n",
              "      <td>0.295455</td>\n",
              "      <td>Up</td>\n",
              "      <td>0</td>\n",
              "    </tr>\n",
              "  </tbody>\n",
              "</table>\n",
              "</div>\n",
              "    <div class=\"colab-df-buttons\">\n",
              "\n",
              "  <div class=\"colab-df-container\">\n",
              "    <button class=\"colab-df-convert\" onclick=\"convertToInteractive('df-bccabb95-005a-4a5d-af7f-c5290a056ad9')\"\n",
              "            title=\"Convert this dataframe to an interactive table.\"\n",
              "            style=\"display:none;\">\n",
              "\n",
              "  <svg xmlns=\"http://www.w3.org/2000/svg\" height=\"24px\" viewBox=\"0 -960 960 960\">\n",
              "    <path d=\"M120-120v-720h720v720H120Zm60-500h600v-160H180v160Zm220 220h160v-160H400v160Zm0 220h160v-160H400v160ZM180-400h160v-160H180v160Zm440 0h160v-160H620v160ZM180-180h160v-160H180v160Zm440 0h160v-160H620v160Z\"/>\n",
              "  </svg>\n",
              "    </button>\n",
              "\n",
              "  <style>\n",
              "    .colab-df-container {\n",
              "      display:flex;\n",
              "      gap: 12px;\n",
              "    }\n",
              "\n",
              "    .colab-df-convert {\n",
              "      background-color: #E8F0FE;\n",
              "      border: none;\n",
              "      border-radius: 50%;\n",
              "      cursor: pointer;\n",
              "      display: none;\n",
              "      fill: #1967D2;\n",
              "      height: 32px;\n",
              "      padding: 0 0 0 0;\n",
              "      width: 32px;\n",
              "    }\n",
              "\n",
              "    .colab-df-convert:hover {\n",
              "      background-color: #E2EBFA;\n",
              "      box-shadow: 0px 1px 2px rgba(60, 64, 67, 0.3), 0px 1px 3px 1px rgba(60, 64, 67, 0.15);\n",
              "      fill: #174EA6;\n",
              "    }\n",
              "\n",
              "    .colab-df-buttons div {\n",
              "      margin-bottom: 4px;\n",
              "    }\n",
              "\n",
              "    [theme=dark] .colab-df-convert {\n",
              "      background-color: #3B4455;\n",
              "      fill: #D2E3FC;\n",
              "    }\n",
              "\n",
              "    [theme=dark] .colab-df-convert:hover {\n",
              "      background-color: #434B5C;\n",
              "      box-shadow: 0px 1px 3px 1px rgba(0, 0, 0, 0.15);\n",
              "      filter: drop-shadow(0px 1px 2px rgba(0, 0, 0, 0.3));\n",
              "      fill: #FFFFFF;\n",
              "    }\n",
              "  </style>\n",
              "\n",
              "    <script>\n",
              "      const buttonEl =\n",
              "        document.querySelector('#df-bccabb95-005a-4a5d-af7f-c5290a056ad9 button.colab-df-convert');\n",
              "      buttonEl.style.display =\n",
              "        google.colab.kernel.accessAllowed ? 'block' : 'none';\n",
              "\n",
              "      async function convertToInteractive(key) {\n",
              "        const element = document.querySelector('#df-bccabb95-005a-4a5d-af7f-c5290a056ad9');\n",
              "        const dataTable =\n",
              "          await google.colab.kernel.invokeFunction('convertToInteractive',\n",
              "                                                    [key], {});\n",
              "        if (!dataTable) return;\n",
              "\n",
              "        const docLinkHtml = 'Like what you see? Visit the ' +\n",
              "          '<a target=\"_blank\" href=https://colab.research.google.com/notebooks/data_table.ipynb>data table notebook</a>'\n",
              "          + ' to learn more about interactive tables.';\n",
              "        element.innerHTML = '';\n",
              "        dataTable['output_type'] = 'display_data';\n",
              "        await google.colab.output.renderOutput(dataTable, element);\n",
              "        const docLink = document.createElement('div');\n",
              "        docLink.innerHTML = docLinkHtml;\n",
              "        element.appendChild(docLink);\n",
              "      }\n",
              "    </script>\n",
              "  </div>\n",
              "\n",
              "\n",
              "<div id=\"df-81913032-6e76-43e2-8f3b-5d72e2dea474\">\n",
              "  <button class=\"colab-df-quickchart\" onclick=\"quickchart('df-81913032-6e76-43e2-8f3b-5d72e2dea474')\"\n",
              "            title=\"Suggest charts\"\n",
              "            style=\"display:none;\">\n",
              "\n",
              "<svg xmlns=\"http://www.w3.org/2000/svg\" height=\"24px\"viewBox=\"0 0 24 24\"\n",
              "     width=\"24px\">\n",
              "    <g>\n",
              "        <path d=\"M19 3H5c-1.1 0-2 .9-2 2v14c0 1.1.9 2 2 2h14c1.1 0 2-.9 2-2V5c0-1.1-.9-2-2-2zM9 17H7v-7h2v7zm4 0h-2V7h2v10zm4 0h-2v-4h2v4z\"/>\n",
              "    </g>\n",
              "</svg>\n",
              "  </button>\n",
              "\n",
              "<style>\n",
              "  .colab-df-quickchart {\n",
              "      --bg-color: #E8F0FE;\n",
              "      --fill-color: #1967D2;\n",
              "      --hover-bg-color: #E2EBFA;\n",
              "      --hover-fill-color: #174EA6;\n",
              "      --disabled-fill-color: #AAA;\n",
              "      --disabled-bg-color: #DDD;\n",
              "  }\n",
              "\n",
              "  [theme=dark] .colab-df-quickchart {\n",
              "      --bg-color: #3B4455;\n",
              "      --fill-color: #D2E3FC;\n",
              "      --hover-bg-color: #434B5C;\n",
              "      --hover-fill-color: #FFFFFF;\n",
              "      --disabled-bg-color: #3B4455;\n",
              "      --disabled-fill-color: #666;\n",
              "  }\n",
              "\n",
              "  .colab-df-quickchart {\n",
              "    background-color: var(--bg-color);\n",
              "    border: none;\n",
              "    border-radius: 50%;\n",
              "    cursor: pointer;\n",
              "    display: none;\n",
              "    fill: var(--fill-color);\n",
              "    height: 32px;\n",
              "    padding: 0;\n",
              "    width: 32px;\n",
              "  }\n",
              "\n",
              "  .colab-df-quickchart:hover {\n",
              "    background-color: var(--hover-bg-color);\n",
              "    box-shadow: 0 1px 2px rgba(60, 64, 67, 0.3), 0 1px 3px 1px rgba(60, 64, 67, 0.15);\n",
              "    fill: var(--button-hover-fill-color);\n",
              "  }\n",
              "\n",
              "  .colab-df-quickchart-complete:disabled,\n",
              "  .colab-df-quickchart-complete:disabled:hover {\n",
              "    background-color: var(--disabled-bg-color);\n",
              "    fill: var(--disabled-fill-color);\n",
              "    box-shadow: none;\n",
              "  }\n",
              "\n",
              "  .colab-df-spinner {\n",
              "    border: 2px solid var(--fill-color);\n",
              "    border-color: transparent;\n",
              "    border-bottom-color: var(--fill-color);\n",
              "    animation:\n",
              "      spin 1s steps(1) infinite;\n",
              "  }\n",
              "\n",
              "  @keyframes spin {\n",
              "    0% {\n",
              "      border-color: transparent;\n",
              "      border-bottom-color: var(--fill-color);\n",
              "      border-left-color: var(--fill-color);\n",
              "    }\n",
              "    20% {\n",
              "      border-color: transparent;\n",
              "      border-left-color: var(--fill-color);\n",
              "      border-top-color: var(--fill-color);\n",
              "    }\n",
              "    30% {\n",
              "      border-color: transparent;\n",
              "      border-left-color: var(--fill-color);\n",
              "      border-top-color: var(--fill-color);\n",
              "      border-right-color: var(--fill-color);\n",
              "    }\n",
              "    40% {\n",
              "      border-color: transparent;\n",
              "      border-right-color: var(--fill-color);\n",
              "      border-top-color: var(--fill-color);\n",
              "    }\n",
              "    60% {\n",
              "      border-color: transparent;\n",
              "      border-right-color: var(--fill-color);\n",
              "    }\n",
              "    80% {\n",
              "      border-color: transparent;\n",
              "      border-right-color: var(--fill-color);\n",
              "      border-bottom-color: var(--fill-color);\n",
              "    }\n",
              "    90% {\n",
              "      border-color: transparent;\n",
              "      border-bottom-color: var(--fill-color);\n",
              "    }\n",
              "  }\n",
              "</style>\n",
              "\n",
              "  <script>\n",
              "    async function quickchart(key) {\n",
              "      const quickchartButtonEl =\n",
              "        document.querySelector('#' + key + ' button');\n",
              "      quickchartButtonEl.disabled = true;  // To prevent multiple clicks.\n",
              "      quickchartButtonEl.classList.add('colab-df-spinner');\n",
              "      try {\n",
              "        const charts = await google.colab.kernel.invokeFunction(\n",
              "            'suggestCharts', [key], {});\n",
              "      } catch (error) {\n",
              "        console.error('Error during call to suggestCharts:', error);\n",
              "      }\n",
              "      quickchartButtonEl.classList.remove('colab-df-spinner');\n",
              "      quickchartButtonEl.classList.add('colab-df-quickchart-complete');\n",
              "    }\n",
              "    (() => {\n",
              "      let quickchartButtonEl =\n",
              "        document.querySelector('#df-81913032-6e76-43e2-8f3b-5d72e2dea474 button');\n",
              "      quickchartButtonEl.style.display =\n",
              "        google.colab.kernel.accessAllowed ? 'block' : 'none';\n",
              "    })();\n",
              "  </script>\n",
              "</div>\n",
              "\n",
              "    </div>\n",
              "  </div>\n"
            ],
            "application/vnd.google.colaboratory.intrinsic+json": {
              "type": "dataframe",
              "variable_name": "dataset_normalized",
              "summary": "{\n  \"name\": \"dataset_normalized\",\n  \"rows\": 918,\n  \"fields\": [\n    {\n      \"column\": \"Age\",\n      \"properties\": {\n        \"dtype\": \"number\",\n        \"std\": 0.19250237768840836,\n        \"min\": 0.0,\n        \"max\": 1.0,\n        \"num_unique_values\": 50,\n        \"samples\": [\n          0.3265306122448979,\n          0.8163265306122449,\n          0.7755102040816326\n        ],\n        \"semantic_type\": \"\",\n        \"description\": \"\"\n      }\n    },\n    {\n      \"column\": \"Sex\",\n      \"properties\": {\n        \"dtype\": \"category\",\n        \"num_unique_values\": 2,\n        \"samples\": [\n          \"F\",\n          \"M\"\n        ],\n        \"semantic_type\": \"\",\n        \"description\": \"\"\n      }\n    },\n    {\n      \"column\": \"ChestPainType\",\n      \"properties\": {\n        \"dtype\": \"category\",\n        \"num_unique_values\": 4,\n        \"samples\": [\n          \"NAP\",\n          \"TA\"\n        ],\n        \"semantic_type\": \"\",\n        \"description\": \"\"\n      }\n    },\n    {\n      \"column\": \"RestingBP\",\n      \"properties\": {\n        \"dtype\": \"number\",\n        \"std\": 0.092570770599539,\n        \"min\": 0.0,\n        \"max\": 1.0,\n        \"num_unique_values\": 67,\n        \"samples\": [\n          0.8250000000000001,\n          0.59\n        ],\n        \"semantic_type\": \"\",\n        \"description\": \"\"\n      }\n    },\n    {\n      \"column\": \"Cholesterol\",\n      \"properties\": {\n        \"dtype\": \"number\",\n        \"std\": 0.18139990804677197,\n        \"min\": 0.0,\n        \"max\": 1.0,\n        \"num_unique_values\": 222,\n        \"samples\": [\n          0.5058043117744611,\n          0.5323383084577115\n        ],\n        \"semantic_type\": \"\",\n        \"description\": \"\"\n      }\n    },\n    {\n      \"column\": \"FastingBS\",\n      \"properties\": {\n        \"dtype\": \"number\",\n        \"std\": 0.423045624739303,\n        \"min\": 0.0,\n        \"max\": 1.0,\n        \"num_unique_values\": 2,\n        \"samples\": [\n          1.0,\n          0.0\n        ],\n        \"semantic_type\": \"\",\n        \"description\": \"\"\n      }\n    },\n    {\n      \"column\": \"RestingECG\",\n      \"properties\": {\n        \"dtype\": \"category\",\n        \"num_unique_values\": 3,\n        \"samples\": [\n          \"Normal\",\n          \"ST\"\n        ],\n        \"semantic_type\": \"\",\n        \"description\": \"\"\n      }\n    },\n    {\n      \"column\": \"MaxHR\",\n      \"properties\": {\n        \"dtype\": \"number\",\n        \"std\": 0.17929812773415704,\n        \"min\": 0.0,\n        \"max\": 1.0,\n        \"num_unique_values\": 119,\n        \"samples\": [\n          0.5070422535211268,\n          0.6830985915492959\n        ],\n        \"semantic_type\": \"\",\n        \"description\": \"\"\n      }\n    },\n    {\n      \"column\": \"ExerciseAngina\",\n      \"properties\": {\n        \"dtype\": \"category\",\n        \"num_unique_values\": 2,\n        \"samples\": [\n          \"Y\",\n          \"N\"\n        ],\n        \"semantic_type\": \"\",\n        \"description\": \"\"\n      }\n    },\n    {\n      \"column\": \"Oldpeak\",\n      \"properties\": {\n        \"dtype\": \"number\",\n        \"std\": 0.12120115352833247,\n        \"min\": 0.0,\n        \"max\": 1.0,\n        \"num_unique_values\": 53,\n        \"samples\": [\n          0.44318181818181823,\n          0.36363636363636365\n        ],\n        \"semantic_type\": \"\",\n        \"description\": \"\"\n      }\n    },\n    {\n      \"column\": \"ST_Slope\",\n      \"properties\": {\n        \"dtype\": \"category\",\n        \"num_unique_values\": 3,\n        \"samples\": [\n          \"Up\",\n          \"Flat\"\n        ],\n        \"semantic_type\": \"\",\n        \"description\": \"\"\n      }\n    },\n    {\n      \"column\": \"HeartDisease\",\n      \"properties\": {\n        \"dtype\": \"number\",\n        \"std\": 0,\n        \"min\": 0,\n        \"max\": 1,\n        \"num_unique_values\": 2,\n        \"samples\": [\n          1,\n          0\n        ],\n        \"semantic_type\": \"\",\n        \"description\": \"\"\n      }\n    }\n  ]\n}"
            }
          },
          "metadata": {},
          "execution_count": 160
        }
      ]
    },
    {
      "cell_type": "markdown",
      "source": [
        "## Tratamento de Dados Categóricos\n",
        "\n",
        "Para que os algorítimos de treinamento consiga interpretar corretamente o dataset, precisamos converter os dados categóricos para dados numéricos. Inicialmente iremos transformar os atributos do tipo <i>object</i> para <i>string</i>\n",
        "\n",
        "\n",
        "\n"
      ],
      "metadata": {
        "id": "d91xYQSFlP33"
      }
    },
    {
      "cell_type": "code",
      "source": [
        "# Versiona o dataset\n",
        "dataset_categorized = dataset_normalized.copy()\n",
        "\n",
        "# Obtem as colunas do tipo \"object\" e armazena\n",
        "colunas_string = dataset_categorized.select_dtypes(include=\"object\").columns\n",
        "\n",
        "# Substitui as colunas obtidas para o tipo \"string\"\n",
        "dataset_categorized[colunas_string]=dataset_categorized[colunas_string].astype('string')\n",
        "\n",
        "# Imprime na tela as informações para validação da conversão dos tipos\n",
        "dataset_categorized.dtypes"
      ],
      "metadata": {
        "colab": {
          "base_uri": "https://localhost:8080/"
        },
        "id": "JRtZprLztv2p",
        "outputId": "4b59077e-58b0-4013-8087-c713cf8a2750"
      },
      "execution_count": 161,
      "outputs": [
        {
          "output_type": "execute_result",
          "data": {
            "text/plain": [
              "Age                      float64\n",
              "Sex               string[python]\n",
              "ChestPainType     string[python]\n",
              "RestingBP                float64\n",
              "Cholesterol              float64\n",
              "FastingBS                float64\n",
              "RestingECG        string[python]\n",
              "MaxHR                    float64\n",
              "ExerciseAngina    string[python]\n",
              "Oldpeak                  float64\n",
              "ST_Slope          string[python]\n",
              "HeartDisease               int64\n",
              "dtype: object"
            ]
          },
          "metadata": {},
          "execution_count": 161
        }
      ]
    },
    {
      "cell_type": "markdown",
      "source": [
        "### Label Encoding\n",
        "Em seguida iremos transformar os atributos categóricos em numéricos. Para isso, utilizaremos o método <i>Label Encode</i> da biblioteca scikit-learn em uma nova versão do dataset."
      ],
      "metadata": {
        "id": "uW5N5eR2tswR"
      }
    },
    {
      "cell_type": "code",
      "source": [
        "# Versiona o dataset\n",
        "dataset_labelencode = dataset_categorized.copy()\n",
        "\n",
        "# Importa o método Label Encoding\n",
        "\n",
        "le = LabelEncoder()\n",
        "\n",
        "# Separa as colunas categóricas e aplica o método Label Encoding\n",
        "sex = le.fit_transform(dataset_labelencode['Sex'])\n",
        "chestpaintype = le.fit_transform(dataset_labelencode['ChestPainType'])\n",
        "restingecg = le.fit_transform(dataset_labelencode['RestingECG'])\n",
        "exerciseangina = le.fit_transform(dataset_labelencode['ExerciseAngina'])\n",
        "st_slope = le.fit_transform(dataset_labelencode['ST_Slope'])\n",
        "\n",
        "# Substitui as colunas categóricas\n",
        "dataset_labelencode['Sex'] = sex\n",
        "dataset_labelencode['ChestPainType'] = chestpaintype\n",
        "dataset_labelencode['RestingECG'] = restingecg\n",
        "dataset_labelencode['ExerciseAngina'] = exerciseangina\n",
        "dataset_labelencode['ST_Slope'] = st_slope\n",
        "\n",
        "# Imprime o cabeçalho do dataset\n",
        "dataset_labelencode.head()"
      ],
      "metadata": {
        "colab": {
          "base_uri": "https://localhost:8080/",
          "height": 206
        },
        "id": "5ZR7s1McmPJY",
        "outputId": "91ce62b3-b76d-4d90-9a03-ed57c87f7b59"
      },
      "execution_count": 162,
      "outputs": [
        {
          "output_type": "execute_result",
          "data": {
            "text/plain": [
              "        Age  Sex  ChestPainType  RestingBP  Cholesterol  FastingBS  \\\n",
              "0  0.244898    1              1       0.70     0.479270        0.0   \n",
              "1  0.428571    0              2       0.80     0.298507        0.0   \n",
              "2  0.183673    1              1       0.65     0.469320        0.0   \n",
              "3  0.408163    0              0       0.69     0.354892        0.0   \n",
              "4  0.530612    1              2       0.75     0.323383        0.0   \n",
              "\n",
              "   RestingECG     MaxHR  ExerciseAngina   Oldpeak  ST_Slope  HeartDisease  \n",
              "0           1  0.788732               0  0.295455         2             0  \n",
              "1           1  0.676056               0  0.409091         1             1  \n",
              "2           2  0.267606               0  0.295455         2             0  \n",
              "3           1  0.338028               1  0.465909         1             1  \n",
              "4           1  0.436620               0  0.295455         2             0  "
            ],
            "text/html": [
              "\n",
              "  <div id=\"df-1b9fdcc2-34fb-4e5b-b826-6dbc6ace1b4e\" class=\"colab-df-container\">\n",
              "    <div>\n",
              "<style scoped>\n",
              "    .dataframe tbody tr th:only-of-type {\n",
              "        vertical-align: middle;\n",
              "    }\n",
              "\n",
              "    .dataframe tbody tr th {\n",
              "        vertical-align: top;\n",
              "    }\n",
              "\n",
              "    .dataframe thead th {\n",
              "        text-align: right;\n",
              "    }\n",
              "</style>\n",
              "<table border=\"1\" class=\"dataframe\">\n",
              "  <thead>\n",
              "    <tr style=\"text-align: right;\">\n",
              "      <th></th>\n",
              "      <th>Age</th>\n",
              "      <th>Sex</th>\n",
              "      <th>ChestPainType</th>\n",
              "      <th>RestingBP</th>\n",
              "      <th>Cholesterol</th>\n",
              "      <th>FastingBS</th>\n",
              "      <th>RestingECG</th>\n",
              "      <th>MaxHR</th>\n",
              "      <th>ExerciseAngina</th>\n",
              "      <th>Oldpeak</th>\n",
              "      <th>ST_Slope</th>\n",
              "      <th>HeartDisease</th>\n",
              "    </tr>\n",
              "  </thead>\n",
              "  <tbody>\n",
              "    <tr>\n",
              "      <th>0</th>\n",
              "      <td>0.244898</td>\n",
              "      <td>1</td>\n",
              "      <td>1</td>\n",
              "      <td>0.70</td>\n",
              "      <td>0.479270</td>\n",
              "      <td>0.0</td>\n",
              "      <td>1</td>\n",
              "      <td>0.788732</td>\n",
              "      <td>0</td>\n",
              "      <td>0.295455</td>\n",
              "      <td>2</td>\n",
              "      <td>0</td>\n",
              "    </tr>\n",
              "    <tr>\n",
              "      <th>1</th>\n",
              "      <td>0.428571</td>\n",
              "      <td>0</td>\n",
              "      <td>2</td>\n",
              "      <td>0.80</td>\n",
              "      <td>0.298507</td>\n",
              "      <td>0.0</td>\n",
              "      <td>1</td>\n",
              "      <td>0.676056</td>\n",
              "      <td>0</td>\n",
              "      <td>0.409091</td>\n",
              "      <td>1</td>\n",
              "      <td>1</td>\n",
              "    </tr>\n",
              "    <tr>\n",
              "      <th>2</th>\n",
              "      <td>0.183673</td>\n",
              "      <td>1</td>\n",
              "      <td>1</td>\n",
              "      <td>0.65</td>\n",
              "      <td>0.469320</td>\n",
              "      <td>0.0</td>\n",
              "      <td>2</td>\n",
              "      <td>0.267606</td>\n",
              "      <td>0</td>\n",
              "      <td>0.295455</td>\n",
              "      <td>2</td>\n",
              "      <td>0</td>\n",
              "    </tr>\n",
              "    <tr>\n",
              "      <th>3</th>\n",
              "      <td>0.408163</td>\n",
              "      <td>0</td>\n",
              "      <td>0</td>\n",
              "      <td>0.69</td>\n",
              "      <td>0.354892</td>\n",
              "      <td>0.0</td>\n",
              "      <td>1</td>\n",
              "      <td>0.338028</td>\n",
              "      <td>1</td>\n",
              "      <td>0.465909</td>\n",
              "      <td>1</td>\n",
              "      <td>1</td>\n",
              "    </tr>\n",
              "    <tr>\n",
              "      <th>4</th>\n",
              "      <td>0.530612</td>\n",
              "      <td>1</td>\n",
              "      <td>2</td>\n",
              "      <td>0.75</td>\n",
              "      <td>0.323383</td>\n",
              "      <td>0.0</td>\n",
              "      <td>1</td>\n",
              "      <td>0.436620</td>\n",
              "      <td>0</td>\n",
              "      <td>0.295455</td>\n",
              "      <td>2</td>\n",
              "      <td>0</td>\n",
              "    </tr>\n",
              "  </tbody>\n",
              "</table>\n",
              "</div>\n",
              "    <div class=\"colab-df-buttons\">\n",
              "\n",
              "  <div class=\"colab-df-container\">\n",
              "    <button class=\"colab-df-convert\" onclick=\"convertToInteractive('df-1b9fdcc2-34fb-4e5b-b826-6dbc6ace1b4e')\"\n",
              "            title=\"Convert this dataframe to an interactive table.\"\n",
              "            style=\"display:none;\">\n",
              "\n",
              "  <svg xmlns=\"http://www.w3.org/2000/svg\" height=\"24px\" viewBox=\"0 -960 960 960\">\n",
              "    <path d=\"M120-120v-720h720v720H120Zm60-500h600v-160H180v160Zm220 220h160v-160H400v160Zm0 220h160v-160H400v160ZM180-400h160v-160H180v160Zm440 0h160v-160H620v160ZM180-180h160v-160H180v160Zm440 0h160v-160H620v160Z\"/>\n",
              "  </svg>\n",
              "    </button>\n",
              "\n",
              "  <style>\n",
              "    .colab-df-container {\n",
              "      display:flex;\n",
              "      gap: 12px;\n",
              "    }\n",
              "\n",
              "    .colab-df-convert {\n",
              "      background-color: #E8F0FE;\n",
              "      border: none;\n",
              "      border-radius: 50%;\n",
              "      cursor: pointer;\n",
              "      display: none;\n",
              "      fill: #1967D2;\n",
              "      height: 32px;\n",
              "      padding: 0 0 0 0;\n",
              "      width: 32px;\n",
              "    }\n",
              "\n",
              "    .colab-df-convert:hover {\n",
              "      background-color: #E2EBFA;\n",
              "      box-shadow: 0px 1px 2px rgba(60, 64, 67, 0.3), 0px 1px 3px 1px rgba(60, 64, 67, 0.15);\n",
              "      fill: #174EA6;\n",
              "    }\n",
              "\n",
              "    .colab-df-buttons div {\n",
              "      margin-bottom: 4px;\n",
              "    }\n",
              "\n",
              "    [theme=dark] .colab-df-convert {\n",
              "      background-color: #3B4455;\n",
              "      fill: #D2E3FC;\n",
              "    }\n",
              "\n",
              "    [theme=dark] .colab-df-convert:hover {\n",
              "      background-color: #434B5C;\n",
              "      box-shadow: 0px 1px 3px 1px rgba(0, 0, 0, 0.15);\n",
              "      filter: drop-shadow(0px 1px 2px rgba(0, 0, 0, 0.3));\n",
              "      fill: #FFFFFF;\n",
              "    }\n",
              "  </style>\n",
              "\n",
              "    <script>\n",
              "      const buttonEl =\n",
              "        document.querySelector('#df-1b9fdcc2-34fb-4e5b-b826-6dbc6ace1b4e button.colab-df-convert');\n",
              "      buttonEl.style.display =\n",
              "        google.colab.kernel.accessAllowed ? 'block' : 'none';\n",
              "\n",
              "      async function convertToInteractive(key) {\n",
              "        const element = document.querySelector('#df-1b9fdcc2-34fb-4e5b-b826-6dbc6ace1b4e');\n",
              "        const dataTable =\n",
              "          await google.colab.kernel.invokeFunction('convertToInteractive',\n",
              "                                                    [key], {});\n",
              "        if (!dataTable) return;\n",
              "\n",
              "        const docLinkHtml = 'Like what you see? Visit the ' +\n",
              "          '<a target=\"_blank\" href=https://colab.research.google.com/notebooks/data_table.ipynb>data table notebook</a>'\n",
              "          + ' to learn more about interactive tables.';\n",
              "        element.innerHTML = '';\n",
              "        dataTable['output_type'] = 'display_data';\n",
              "        await google.colab.output.renderOutput(dataTable, element);\n",
              "        const docLink = document.createElement('div');\n",
              "        docLink.innerHTML = docLinkHtml;\n",
              "        element.appendChild(docLink);\n",
              "      }\n",
              "    </script>\n",
              "  </div>\n",
              "\n",
              "\n",
              "<div id=\"df-abf10768-14ed-40e3-a9f1-e0a8bf87d828\">\n",
              "  <button class=\"colab-df-quickchart\" onclick=\"quickchart('df-abf10768-14ed-40e3-a9f1-e0a8bf87d828')\"\n",
              "            title=\"Suggest charts\"\n",
              "            style=\"display:none;\">\n",
              "\n",
              "<svg xmlns=\"http://www.w3.org/2000/svg\" height=\"24px\"viewBox=\"0 0 24 24\"\n",
              "     width=\"24px\">\n",
              "    <g>\n",
              "        <path d=\"M19 3H5c-1.1 0-2 .9-2 2v14c0 1.1.9 2 2 2h14c1.1 0 2-.9 2-2V5c0-1.1-.9-2-2-2zM9 17H7v-7h2v7zm4 0h-2V7h2v10zm4 0h-2v-4h2v4z\"/>\n",
              "    </g>\n",
              "</svg>\n",
              "  </button>\n",
              "\n",
              "<style>\n",
              "  .colab-df-quickchart {\n",
              "      --bg-color: #E8F0FE;\n",
              "      --fill-color: #1967D2;\n",
              "      --hover-bg-color: #E2EBFA;\n",
              "      --hover-fill-color: #174EA6;\n",
              "      --disabled-fill-color: #AAA;\n",
              "      --disabled-bg-color: #DDD;\n",
              "  }\n",
              "\n",
              "  [theme=dark] .colab-df-quickchart {\n",
              "      --bg-color: #3B4455;\n",
              "      --fill-color: #D2E3FC;\n",
              "      --hover-bg-color: #434B5C;\n",
              "      --hover-fill-color: #FFFFFF;\n",
              "      --disabled-bg-color: #3B4455;\n",
              "      --disabled-fill-color: #666;\n",
              "  }\n",
              "\n",
              "  .colab-df-quickchart {\n",
              "    background-color: var(--bg-color);\n",
              "    border: none;\n",
              "    border-radius: 50%;\n",
              "    cursor: pointer;\n",
              "    display: none;\n",
              "    fill: var(--fill-color);\n",
              "    height: 32px;\n",
              "    padding: 0;\n",
              "    width: 32px;\n",
              "  }\n",
              "\n",
              "  .colab-df-quickchart:hover {\n",
              "    background-color: var(--hover-bg-color);\n",
              "    box-shadow: 0 1px 2px rgba(60, 64, 67, 0.3), 0 1px 3px 1px rgba(60, 64, 67, 0.15);\n",
              "    fill: var(--button-hover-fill-color);\n",
              "  }\n",
              "\n",
              "  .colab-df-quickchart-complete:disabled,\n",
              "  .colab-df-quickchart-complete:disabled:hover {\n",
              "    background-color: var(--disabled-bg-color);\n",
              "    fill: var(--disabled-fill-color);\n",
              "    box-shadow: none;\n",
              "  }\n",
              "\n",
              "  .colab-df-spinner {\n",
              "    border: 2px solid var(--fill-color);\n",
              "    border-color: transparent;\n",
              "    border-bottom-color: var(--fill-color);\n",
              "    animation:\n",
              "      spin 1s steps(1) infinite;\n",
              "  }\n",
              "\n",
              "  @keyframes spin {\n",
              "    0% {\n",
              "      border-color: transparent;\n",
              "      border-bottom-color: var(--fill-color);\n",
              "      border-left-color: var(--fill-color);\n",
              "    }\n",
              "    20% {\n",
              "      border-color: transparent;\n",
              "      border-left-color: var(--fill-color);\n",
              "      border-top-color: var(--fill-color);\n",
              "    }\n",
              "    30% {\n",
              "      border-color: transparent;\n",
              "      border-left-color: var(--fill-color);\n",
              "      border-top-color: var(--fill-color);\n",
              "      border-right-color: var(--fill-color);\n",
              "    }\n",
              "    40% {\n",
              "      border-color: transparent;\n",
              "      border-right-color: var(--fill-color);\n",
              "      border-top-color: var(--fill-color);\n",
              "    }\n",
              "    60% {\n",
              "      border-color: transparent;\n",
              "      border-right-color: var(--fill-color);\n",
              "    }\n",
              "    80% {\n",
              "      border-color: transparent;\n",
              "      border-right-color: var(--fill-color);\n",
              "      border-bottom-color: var(--fill-color);\n",
              "    }\n",
              "    90% {\n",
              "      border-color: transparent;\n",
              "      border-bottom-color: var(--fill-color);\n",
              "    }\n",
              "  }\n",
              "</style>\n",
              "\n",
              "  <script>\n",
              "    async function quickchart(key) {\n",
              "      const quickchartButtonEl =\n",
              "        document.querySelector('#' + key + ' button');\n",
              "      quickchartButtonEl.disabled = true;  // To prevent multiple clicks.\n",
              "      quickchartButtonEl.classList.add('colab-df-spinner');\n",
              "      try {\n",
              "        const charts = await google.colab.kernel.invokeFunction(\n",
              "            'suggestCharts', [key], {});\n",
              "      } catch (error) {\n",
              "        console.error('Error during call to suggestCharts:', error);\n",
              "      }\n",
              "      quickchartButtonEl.classList.remove('colab-df-spinner');\n",
              "      quickchartButtonEl.classList.add('colab-df-quickchart-complete');\n",
              "    }\n",
              "    (() => {\n",
              "      let quickchartButtonEl =\n",
              "        document.querySelector('#df-abf10768-14ed-40e3-a9f1-e0a8bf87d828 button');\n",
              "      quickchartButtonEl.style.display =\n",
              "        google.colab.kernel.accessAllowed ? 'block' : 'none';\n",
              "    })();\n",
              "  </script>\n",
              "</div>\n",
              "\n",
              "    </div>\n",
              "  </div>\n"
            ],
            "application/vnd.google.colaboratory.intrinsic+json": {
              "type": "dataframe",
              "variable_name": "dataset_labelencode",
              "summary": "{\n  \"name\": \"dataset_labelencode\",\n  \"rows\": 918,\n  \"fields\": [\n    {\n      \"column\": \"Age\",\n      \"properties\": {\n        \"dtype\": \"number\",\n        \"std\": 0.19250237768840836,\n        \"min\": 0.0,\n        \"max\": 1.0,\n        \"num_unique_values\": 50,\n        \"samples\": [\n          0.3265306122448979,\n          0.8163265306122449,\n          0.7755102040816326\n        ],\n        \"semantic_type\": \"\",\n        \"description\": \"\"\n      }\n    },\n    {\n      \"column\": \"Sex\",\n      \"properties\": {\n        \"dtype\": \"number\",\n        \"std\": 0,\n        \"min\": 0,\n        \"max\": 1,\n        \"num_unique_values\": 2,\n        \"samples\": [\n          0,\n          1\n        ],\n        \"semantic_type\": \"\",\n        \"description\": \"\"\n      }\n    },\n    {\n      \"column\": \"ChestPainType\",\n      \"properties\": {\n        \"dtype\": \"number\",\n        \"std\": 0,\n        \"min\": 0,\n        \"max\": 3,\n        \"num_unique_values\": 4,\n        \"samples\": [\n          2,\n          3\n        ],\n        \"semantic_type\": \"\",\n        \"description\": \"\"\n      }\n    },\n    {\n      \"column\": \"RestingBP\",\n      \"properties\": {\n        \"dtype\": \"number\",\n        \"std\": 0.092570770599539,\n        \"min\": 0.0,\n        \"max\": 1.0,\n        \"num_unique_values\": 67,\n        \"samples\": [\n          0.8250000000000001,\n          0.59\n        ],\n        \"semantic_type\": \"\",\n        \"description\": \"\"\n      }\n    },\n    {\n      \"column\": \"Cholesterol\",\n      \"properties\": {\n        \"dtype\": \"number\",\n        \"std\": 0.18139990804677197,\n        \"min\": 0.0,\n        \"max\": 1.0,\n        \"num_unique_values\": 222,\n        \"samples\": [\n          0.5058043117744611,\n          0.5323383084577115\n        ],\n        \"semantic_type\": \"\",\n        \"description\": \"\"\n      }\n    },\n    {\n      \"column\": \"FastingBS\",\n      \"properties\": {\n        \"dtype\": \"number\",\n        \"std\": 0.423045624739303,\n        \"min\": 0.0,\n        \"max\": 1.0,\n        \"num_unique_values\": 2,\n        \"samples\": [\n          1.0,\n          0.0\n        ],\n        \"semantic_type\": \"\",\n        \"description\": \"\"\n      }\n    },\n    {\n      \"column\": \"RestingECG\",\n      \"properties\": {\n        \"dtype\": \"number\",\n        \"std\": 0,\n        \"min\": 0,\n        \"max\": 2,\n        \"num_unique_values\": 3,\n        \"samples\": [\n          1,\n          2\n        ],\n        \"semantic_type\": \"\",\n        \"description\": \"\"\n      }\n    },\n    {\n      \"column\": \"MaxHR\",\n      \"properties\": {\n        \"dtype\": \"number\",\n        \"std\": 0.17929812773415704,\n        \"min\": 0.0,\n        \"max\": 1.0,\n        \"num_unique_values\": 119,\n        \"samples\": [\n          0.5070422535211268,\n          0.6830985915492959\n        ],\n        \"semantic_type\": \"\",\n        \"description\": \"\"\n      }\n    },\n    {\n      \"column\": \"ExerciseAngina\",\n      \"properties\": {\n        \"dtype\": \"number\",\n        \"std\": 0,\n        \"min\": 0,\n        \"max\": 1,\n        \"num_unique_values\": 2,\n        \"samples\": [\n          1,\n          0\n        ],\n        \"semantic_type\": \"\",\n        \"description\": \"\"\n      }\n    },\n    {\n      \"column\": \"Oldpeak\",\n      \"properties\": {\n        \"dtype\": \"number\",\n        \"std\": 0.12120115352833247,\n        \"min\": 0.0,\n        \"max\": 1.0,\n        \"num_unique_values\": 53,\n        \"samples\": [\n          0.44318181818181823,\n          0.36363636363636365\n        ],\n        \"semantic_type\": \"\",\n        \"description\": \"\"\n      }\n    },\n    {\n      \"column\": \"ST_Slope\",\n      \"properties\": {\n        \"dtype\": \"number\",\n        \"std\": 0,\n        \"min\": 0,\n        \"max\": 2,\n        \"num_unique_values\": 3,\n        \"samples\": [\n          2,\n          1\n        ],\n        \"semantic_type\": \"\",\n        \"description\": \"\"\n      }\n    },\n    {\n      \"column\": \"HeartDisease\",\n      \"properties\": {\n        \"dtype\": \"number\",\n        \"std\": 0,\n        \"min\": 0,\n        \"max\": 1,\n        \"num_unique_values\": 2,\n        \"samples\": [\n          1,\n          0\n        ],\n        \"semantic_type\": \"\",\n        \"description\": \"\"\n      }\n    }\n  ]\n}"
            }
          },
          "metadata": {},
          "execution_count": 162
        }
      ]
    },
    {
      "cell_type": "markdown",
      "source": [
        "Acima podemos ver que as colunas categóricas foram transformadas utilizando o método Label Encoding, recomendado para trabalhar com algorítimos do tipo Árvore de Decisão (Como Decision Trees, Bagging, Random Forest)."
      ],
      "metadata": {
        "id": "ylFGo5rTryd4"
      }
    },
    {
      "cell_type": "markdown",
      "source": [
        "## Feature Selection\n",
        "Nesta etapa será realizado o processo para eliminação de atributos redundantes ou irrelevantes utilizando o método de Seleção Univariada.\n",
        "\n",
        "Neste caso utilizaremos o <i>SelectKBest</i> da biblioteca <i>scikit-learn</i> para selecionar os 5 atributos que mais influenciam no valor da classe."
      ],
      "metadata": {
        "id": "GVLe4_UDfcAh"
      }
    },
    {
      "cell_type": "code",
      "source": [
        "# Define uma array com os valores do dataset\n",
        "array_fs = dataset_labelencode.values\n",
        "\n",
        "# Define X (entradas) com os atributos previsores\n",
        "Xvar = array_fs[:,0:11]\n",
        "\n",
        "# Define y (saida) com o atributo peditor\n",
        "yvar = array_fs[:,11]\n",
        "\n",
        "# Seleção dos 6 atributos com maior pontuação\n",
        "best_var = SelectKBest(score_func=f_classif, k=6)\n",
        "\n",
        "# Executa a função e obtem os atributos\n",
        "fit = best_var.fit(Xvar, yvar)\n",
        "\n",
        "# Reduz X para os atributos selecionados\n",
        "features = fit.transform(Xvar)\n",
        "\n",
        "# Imprime os resultados na tela\n",
        "print(f'\\nAtributos selecionados: {features.shape[1]} de {Xvar.shape[1]}')\n",
        "print('\\nAtributos Originais:',*dataset_labelencode.columns[0:11], sep='\\n')\n",
        "print('\\nScores dos atributos originais:',*fit.scores_, sep='\\n')\n",
        "print('\\nAtributos Selecionados:',*best_var.get_feature_names_out(input_features=dataset_labelencode.columns[0:11]), sep='\\n')"
      ],
      "metadata": {
        "colab": {
          "base_uri": "https://localhost:8080/"
        },
        "id": "YlEv2qXuJIRW",
        "outputId": "e580ef2d-f330-4ebf-eca0-9a6313d87c92"
      },
      "execution_count": 163,
      "outputs": [
        {
          "output_type": "stream",
          "name": "stdout",
          "text": [
            "\n",
            "Atributos selecionados: 6 de 11\n",
            "\n",
            "Atributos Originais:\n",
            "Age\n",
            "Sex\n",
            "ChestPainType\n",
            "RestingBP\n",
            "Cholesterol\n",
            "FastingBS\n",
            "RestingECG\n",
            "MaxHR\n",
            "ExerciseAngina\n",
            "Oldpeak\n",
            "ST_Slope\n",
            "\n",
            "Scores dos atributos originais:\n",
            "79.16077949096051\n",
            "94.25318384575257\n",
            "161.1853455639518\n",
            "10.727227879116858\n",
            "52.459724921698104\n",
            "70.47854340989556\n",
            "3.026320985097295\n",
            "174.9135852879135\n",
            "296.14477081610903\n",
            "178.61512031183386\n",
            "415.83034587096483\n",
            "\n",
            "Atributos Selecionados:\n",
            "Sex\n",
            "ChestPainType\n",
            "MaxHR\n",
            "ExerciseAngina\n",
            "Oldpeak\n",
            "ST_Slope\n"
          ]
        }
      ]
    },
    {
      "cell_type": "markdown",
      "source": [
        "Note que os seguintes atributos foram selecionados como os mais influentes para a predição:\n",
        "- Sex\n",
        "- ChestPainType\n",
        "- MaxHR\n",
        "- ExerciseAngina\n",
        "- Oldpeak\n",
        "- ST_Slope\n",
        "\n",
        "Para que o treinamento seja mais eficiente, selecionaremos estes 6 atributos para composição do dataset, incluindo a classe preditora.\n"
      ],
      "metadata": {
        "id": "sz9wdYELVCxR"
      }
    },
    {
      "cell_type": "code",
      "source": [
        "# Versionamento do Dataset\n",
        "dataset_bestvars = dataset_labelencode.copy()\n",
        "\n",
        "# Cria um novo dataset com os atributos selecionados + Classe\n",
        "dataset_bestvars = dataset_bestvars[['Sex','ChestPainType','MaxHR','ExerciseAngina','Oldpeak','ST_Slope','HeartDisease']]\n",
        "\n",
        "# Imprime na tela o dataset\n",
        "dataset_bestvars.head()"
      ],
      "metadata": {
        "colab": {
          "base_uri": "https://localhost:8080/",
          "height": 206
        },
        "id": "FFGkdRp2VzG-",
        "outputId": "ae76d415-f32d-46b4-84e8-2b93655436e0"
      },
      "execution_count": 164,
      "outputs": [
        {
          "output_type": "execute_result",
          "data": {
            "text/plain": [
              "   Sex  ChestPainType     MaxHR  ExerciseAngina   Oldpeak  ST_Slope  \\\n",
              "0    1              1  0.788732               0  0.295455         2   \n",
              "1    0              2  0.676056               0  0.409091         1   \n",
              "2    1              1  0.267606               0  0.295455         2   \n",
              "3    0              0  0.338028               1  0.465909         1   \n",
              "4    1              2  0.436620               0  0.295455         2   \n",
              "\n",
              "   HeartDisease  \n",
              "0             0  \n",
              "1             1  \n",
              "2             0  \n",
              "3             1  \n",
              "4             0  "
            ],
            "text/html": [
              "\n",
              "  <div id=\"df-b87225b8-304b-4f1b-bb91-68750329d72a\" class=\"colab-df-container\">\n",
              "    <div>\n",
              "<style scoped>\n",
              "    .dataframe tbody tr th:only-of-type {\n",
              "        vertical-align: middle;\n",
              "    }\n",
              "\n",
              "    .dataframe tbody tr th {\n",
              "        vertical-align: top;\n",
              "    }\n",
              "\n",
              "    .dataframe thead th {\n",
              "        text-align: right;\n",
              "    }\n",
              "</style>\n",
              "<table border=\"1\" class=\"dataframe\">\n",
              "  <thead>\n",
              "    <tr style=\"text-align: right;\">\n",
              "      <th></th>\n",
              "      <th>Sex</th>\n",
              "      <th>ChestPainType</th>\n",
              "      <th>MaxHR</th>\n",
              "      <th>ExerciseAngina</th>\n",
              "      <th>Oldpeak</th>\n",
              "      <th>ST_Slope</th>\n",
              "      <th>HeartDisease</th>\n",
              "    </tr>\n",
              "  </thead>\n",
              "  <tbody>\n",
              "    <tr>\n",
              "      <th>0</th>\n",
              "      <td>1</td>\n",
              "      <td>1</td>\n",
              "      <td>0.788732</td>\n",
              "      <td>0</td>\n",
              "      <td>0.295455</td>\n",
              "      <td>2</td>\n",
              "      <td>0</td>\n",
              "    </tr>\n",
              "    <tr>\n",
              "      <th>1</th>\n",
              "      <td>0</td>\n",
              "      <td>2</td>\n",
              "      <td>0.676056</td>\n",
              "      <td>0</td>\n",
              "      <td>0.409091</td>\n",
              "      <td>1</td>\n",
              "      <td>1</td>\n",
              "    </tr>\n",
              "    <tr>\n",
              "      <th>2</th>\n",
              "      <td>1</td>\n",
              "      <td>1</td>\n",
              "      <td>0.267606</td>\n",
              "      <td>0</td>\n",
              "      <td>0.295455</td>\n",
              "      <td>2</td>\n",
              "      <td>0</td>\n",
              "    </tr>\n",
              "    <tr>\n",
              "      <th>3</th>\n",
              "      <td>0</td>\n",
              "      <td>0</td>\n",
              "      <td>0.338028</td>\n",
              "      <td>1</td>\n",
              "      <td>0.465909</td>\n",
              "      <td>1</td>\n",
              "      <td>1</td>\n",
              "    </tr>\n",
              "    <tr>\n",
              "      <th>4</th>\n",
              "      <td>1</td>\n",
              "      <td>2</td>\n",
              "      <td>0.436620</td>\n",
              "      <td>0</td>\n",
              "      <td>0.295455</td>\n",
              "      <td>2</td>\n",
              "      <td>0</td>\n",
              "    </tr>\n",
              "  </tbody>\n",
              "</table>\n",
              "</div>\n",
              "    <div class=\"colab-df-buttons\">\n",
              "\n",
              "  <div class=\"colab-df-container\">\n",
              "    <button class=\"colab-df-convert\" onclick=\"convertToInteractive('df-b87225b8-304b-4f1b-bb91-68750329d72a')\"\n",
              "            title=\"Convert this dataframe to an interactive table.\"\n",
              "            style=\"display:none;\">\n",
              "\n",
              "  <svg xmlns=\"http://www.w3.org/2000/svg\" height=\"24px\" viewBox=\"0 -960 960 960\">\n",
              "    <path d=\"M120-120v-720h720v720H120Zm60-500h600v-160H180v160Zm220 220h160v-160H400v160Zm0 220h160v-160H400v160ZM180-400h160v-160H180v160Zm440 0h160v-160H620v160ZM180-180h160v-160H180v160Zm440 0h160v-160H620v160Z\"/>\n",
              "  </svg>\n",
              "    </button>\n",
              "\n",
              "  <style>\n",
              "    .colab-df-container {\n",
              "      display:flex;\n",
              "      gap: 12px;\n",
              "    }\n",
              "\n",
              "    .colab-df-convert {\n",
              "      background-color: #E8F0FE;\n",
              "      border: none;\n",
              "      border-radius: 50%;\n",
              "      cursor: pointer;\n",
              "      display: none;\n",
              "      fill: #1967D2;\n",
              "      height: 32px;\n",
              "      padding: 0 0 0 0;\n",
              "      width: 32px;\n",
              "    }\n",
              "\n",
              "    .colab-df-convert:hover {\n",
              "      background-color: #E2EBFA;\n",
              "      box-shadow: 0px 1px 2px rgba(60, 64, 67, 0.3), 0px 1px 3px 1px rgba(60, 64, 67, 0.15);\n",
              "      fill: #174EA6;\n",
              "    }\n",
              "\n",
              "    .colab-df-buttons div {\n",
              "      margin-bottom: 4px;\n",
              "    }\n",
              "\n",
              "    [theme=dark] .colab-df-convert {\n",
              "      background-color: #3B4455;\n",
              "      fill: #D2E3FC;\n",
              "    }\n",
              "\n",
              "    [theme=dark] .colab-df-convert:hover {\n",
              "      background-color: #434B5C;\n",
              "      box-shadow: 0px 1px 3px 1px rgba(0, 0, 0, 0.15);\n",
              "      filter: drop-shadow(0px 1px 2px rgba(0, 0, 0, 0.3));\n",
              "      fill: #FFFFFF;\n",
              "    }\n",
              "  </style>\n",
              "\n",
              "    <script>\n",
              "      const buttonEl =\n",
              "        document.querySelector('#df-b87225b8-304b-4f1b-bb91-68750329d72a button.colab-df-convert');\n",
              "      buttonEl.style.display =\n",
              "        google.colab.kernel.accessAllowed ? 'block' : 'none';\n",
              "\n",
              "      async function convertToInteractive(key) {\n",
              "        const element = document.querySelector('#df-b87225b8-304b-4f1b-bb91-68750329d72a');\n",
              "        const dataTable =\n",
              "          await google.colab.kernel.invokeFunction('convertToInteractive',\n",
              "                                                    [key], {});\n",
              "        if (!dataTable) return;\n",
              "\n",
              "        const docLinkHtml = 'Like what you see? Visit the ' +\n",
              "          '<a target=\"_blank\" href=https://colab.research.google.com/notebooks/data_table.ipynb>data table notebook</a>'\n",
              "          + ' to learn more about interactive tables.';\n",
              "        element.innerHTML = '';\n",
              "        dataTable['output_type'] = 'display_data';\n",
              "        await google.colab.output.renderOutput(dataTable, element);\n",
              "        const docLink = document.createElement('div');\n",
              "        docLink.innerHTML = docLinkHtml;\n",
              "        element.appendChild(docLink);\n",
              "      }\n",
              "    </script>\n",
              "  </div>\n",
              "\n",
              "\n",
              "<div id=\"df-5393c000-1ddf-407c-8dd4-075cc5462b4d\">\n",
              "  <button class=\"colab-df-quickchart\" onclick=\"quickchart('df-5393c000-1ddf-407c-8dd4-075cc5462b4d')\"\n",
              "            title=\"Suggest charts\"\n",
              "            style=\"display:none;\">\n",
              "\n",
              "<svg xmlns=\"http://www.w3.org/2000/svg\" height=\"24px\"viewBox=\"0 0 24 24\"\n",
              "     width=\"24px\">\n",
              "    <g>\n",
              "        <path d=\"M19 3H5c-1.1 0-2 .9-2 2v14c0 1.1.9 2 2 2h14c1.1 0 2-.9 2-2V5c0-1.1-.9-2-2-2zM9 17H7v-7h2v7zm4 0h-2V7h2v10zm4 0h-2v-4h2v4z\"/>\n",
              "    </g>\n",
              "</svg>\n",
              "  </button>\n",
              "\n",
              "<style>\n",
              "  .colab-df-quickchart {\n",
              "      --bg-color: #E8F0FE;\n",
              "      --fill-color: #1967D2;\n",
              "      --hover-bg-color: #E2EBFA;\n",
              "      --hover-fill-color: #174EA6;\n",
              "      --disabled-fill-color: #AAA;\n",
              "      --disabled-bg-color: #DDD;\n",
              "  }\n",
              "\n",
              "  [theme=dark] .colab-df-quickchart {\n",
              "      --bg-color: #3B4455;\n",
              "      --fill-color: #D2E3FC;\n",
              "      --hover-bg-color: #434B5C;\n",
              "      --hover-fill-color: #FFFFFF;\n",
              "      --disabled-bg-color: #3B4455;\n",
              "      --disabled-fill-color: #666;\n",
              "  }\n",
              "\n",
              "  .colab-df-quickchart {\n",
              "    background-color: var(--bg-color);\n",
              "    border: none;\n",
              "    border-radius: 50%;\n",
              "    cursor: pointer;\n",
              "    display: none;\n",
              "    fill: var(--fill-color);\n",
              "    height: 32px;\n",
              "    padding: 0;\n",
              "    width: 32px;\n",
              "  }\n",
              "\n",
              "  .colab-df-quickchart:hover {\n",
              "    background-color: var(--hover-bg-color);\n",
              "    box-shadow: 0 1px 2px rgba(60, 64, 67, 0.3), 0 1px 3px 1px rgba(60, 64, 67, 0.15);\n",
              "    fill: var(--button-hover-fill-color);\n",
              "  }\n",
              "\n",
              "  .colab-df-quickchart-complete:disabled,\n",
              "  .colab-df-quickchart-complete:disabled:hover {\n",
              "    background-color: var(--disabled-bg-color);\n",
              "    fill: var(--disabled-fill-color);\n",
              "    box-shadow: none;\n",
              "  }\n",
              "\n",
              "  .colab-df-spinner {\n",
              "    border: 2px solid var(--fill-color);\n",
              "    border-color: transparent;\n",
              "    border-bottom-color: var(--fill-color);\n",
              "    animation:\n",
              "      spin 1s steps(1) infinite;\n",
              "  }\n",
              "\n",
              "  @keyframes spin {\n",
              "    0% {\n",
              "      border-color: transparent;\n",
              "      border-bottom-color: var(--fill-color);\n",
              "      border-left-color: var(--fill-color);\n",
              "    }\n",
              "    20% {\n",
              "      border-color: transparent;\n",
              "      border-left-color: var(--fill-color);\n",
              "      border-top-color: var(--fill-color);\n",
              "    }\n",
              "    30% {\n",
              "      border-color: transparent;\n",
              "      border-left-color: var(--fill-color);\n",
              "      border-top-color: var(--fill-color);\n",
              "      border-right-color: var(--fill-color);\n",
              "    }\n",
              "    40% {\n",
              "      border-color: transparent;\n",
              "      border-right-color: var(--fill-color);\n",
              "      border-top-color: var(--fill-color);\n",
              "    }\n",
              "    60% {\n",
              "      border-color: transparent;\n",
              "      border-right-color: var(--fill-color);\n",
              "    }\n",
              "    80% {\n",
              "      border-color: transparent;\n",
              "      border-right-color: var(--fill-color);\n",
              "      border-bottom-color: var(--fill-color);\n",
              "    }\n",
              "    90% {\n",
              "      border-color: transparent;\n",
              "      border-bottom-color: var(--fill-color);\n",
              "    }\n",
              "  }\n",
              "</style>\n",
              "\n",
              "  <script>\n",
              "    async function quickchart(key) {\n",
              "      const quickchartButtonEl =\n",
              "        document.querySelector('#' + key + ' button');\n",
              "      quickchartButtonEl.disabled = true;  // To prevent multiple clicks.\n",
              "      quickchartButtonEl.classList.add('colab-df-spinner');\n",
              "      try {\n",
              "        const charts = await google.colab.kernel.invokeFunction(\n",
              "            'suggestCharts', [key], {});\n",
              "      } catch (error) {\n",
              "        console.error('Error during call to suggestCharts:', error);\n",
              "      }\n",
              "      quickchartButtonEl.classList.remove('colab-df-spinner');\n",
              "      quickchartButtonEl.classList.add('colab-df-quickchart-complete');\n",
              "    }\n",
              "    (() => {\n",
              "      let quickchartButtonEl =\n",
              "        document.querySelector('#df-5393c000-1ddf-407c-8dd4-075cc5462b4d button');\n",
              "      quickchartButtonEl.style.display =\n",
              "        google.colab.kernel.accessAllowed ? 'block' : 'none';\n",
              "    })();\n",
              "  </script>\n",
              "</div>\n",
              "\n",
              "    </div>\n",
              "  </div>\n"
            ],
            "application/vnd.google.colaboratory.intrinsic+json": {
              "type": "dataframe",
              "variable_name": "dataset_bestvars",
              "summary": "{\n  \"name\": \"dataset_bestvars\",\n  \"rows\": 918,\n  \"fields\": [\n    {\n      \"column\": \"Sex\",\n      \"properties\": {\n        \"dtype\": \"number\",\n        \"std\": 0,\n        \"min\": 0,\n        \"max\": 1,\n        \"num_unique_values\": 2,\n        \"samples\": [\n          0,\n          1\n        ],\n        \"semantic_type\": \"\",\n        \"description\": \"\"\n      }\n    },\n    {\n      \"column\": \"ChestPainType\",\n      \"properties\": {\n        \"dtype\": \"number\",\n        \"std\": 0,\n        \"min\": 0,\n        \"max\": 3,\n        \"num_unique_values\": 4,\n        \"samples\": [\n          2,\n          3\n        ],\n        \"semantic_type\": \"\",\n        \"description\": \"\"\n      }\n    },\n    {\n      \"column\": \"MaxHR\",\n      \"properties\": {\n        \"dtype\": \"number\",\n        \"std\": 0.17929812773415704,\n        \"min\": 0.0,\n        \"max\": 1.0,\n        \"num_unique_values\": 119,\n        \"samples\": [\n          0.5070422535211268,\n          0.6830985915492959\n        ],\n        \"semantic_type\": \"\",\n        \"description\": \"\"\n      }\n    },\n    {\n      \"column\": \"ExerciseAngina\",\n      \"properties\": {\n        \"dtype\": \"number\",\n        \"std\": 0,\n        \"min\": 0,\n        \"max\": 1,\n        \"num_unique_values\": 2,\n        \"samples\": [\n          1,\n          0\n        ],\n        \"semantic_type\": \"\",\n        \"description\": \"\"\n      }\n    },\n    {\n      \"column\": \"Oldpeak\",\n      \"properties\": {\n        \"dtype\": \"number\",\n        \"std\": 0.12120115352833247,\n        \"min\": 0.0,\n        \"max\": 1.0,\n        \"num_unique_values\": 53,\n        \"samples\": [\n          0.44318181818181823,\n          0.36363636363636365\n        ],\n        \"semantic_type\": \"\",\n        \"description\": \"\"\n      }\n    },\n    {\n      \"column\": \"ST_Slope\",\n      \"properties\": {\n        \"dtype\": \"number\",\n        \"std\": 0,\n        \"min\": 0,\n        \"max\": 2,\n        \"num_unique_values\": 3,\n        \"samples\": [\n          2,\n          1\n        ],\n        \"semantic_type\": \"\",\n        \"description\": \"\"\n      }\n    },\n    {\n      \"column\": \"HeartDisease\",\n      \"properties\": {\n        \"dtype\": \"number\",\n        \"std\": 0,\n        \"min\": 0,\n        \"max\": 1,\n        \"num_unique_values\": 2,\n        \"samples\": [\n          1,\n          0\n        ],\n        \"semantic_type\": \"\",\n        \"description\": \"\"\n      }\n    }\n  ]\n}"
            }
          },
          "metadata": {},
          "execution_count": 164
        }
      ]
    },
    {
      "cell_type": "markdown",
      "source": [
        "## Separação em Dados de Treino e Teste\n",
        "Aqui será feita a separação do dataset em treino e teste, numa proporção de 70% para o treino e 30% para o teste.\n",
        "\n",
        "Será utilizada a técnica de Validação Cruzada, devido a classe do dataset encontrar-se balanceada e para que seja evitado o \"dilema bias x variância\"."
      ],
      "metadata": {
        "id": "OOBPo0wA90-N"
      }
    },
    {
      "cell_type": "code",
      "source": [
        "# Define uma array com os valores do dataset\n",
        "array = dataset_bestvars.values\n",
        "\n",
        "# Define X (entradas) com os atributos previsores\n",
        "X = array[:,0:6]\n",
        "\n",
        "# Define y (saida) com o atributo peditor\n",
        "y = array[:,6]\n",
        "\n",
        "# Tamanho do teste (30%)\n",
        "test_size = 0.30\n",
        "\n",
        "# Faz a divisão dos atributos em amostras de treino e teste (holdout)\n",
        "X_train, X_test, y_train, y_test = train_test_split(X, y, test_size=test_size, random_state=7)\n",
        "\n",
        "# configuração da validação cruzada, utilizando 5 folds\n",
        "num_particoes = 5\n",
        "kfold = KFold(n_splits=num_particoes, shuffle=True, random_state=7)"
      ],
      "metadata": {
        "id": "_dhftUs59-Z3"
      },
      "execution_count": 165,
      "outputs": []
    },
    {
      "cell_type": "markdown",
      "source": [
        "# Modelagem e Treinamento\n",
        "Nesta etapa será realizado o processo de modelagem, onde serão aplicados os algorítimos de machine learning para criação dos modelos, assim como a comparação de seus resultados."
      ],
      "metadata": {
        "id": "6XnDeZ3wUxXF"
      }
    },
    {
      "cell_type": "markdown",
      "source": [
        "## Escolha dos Algoritimos\n",
        "Escolheremos os seguintes algorítimos para o problema de classificação deste MVP:\n",
        "- **KNN**: Pela boa performance com datasets pequenos (918 linhas neste caso).\n",
        "- **Regressão Logística**: Apesar do nome, é largamente utilizado em problemas de classificação.\n",
        "- **Árvore de Classificação**: Pela simplicidade de interpretação, aliando acurácia e interpretabilidade.\n",
        "- **Naive Bayes**: Por ser um dos métodos mais utilizados em problemas de classificação e comparar os atributos de forma independente com a classe preditora.\n",
        "- **SVM**: Por sua efetividade em problemas de classificação e com menor propensão ao *overfitting*."
      ],
      "metadata": {
        "id": "DxNW6hXFqb0_"
      }
    },
    {
      "cell_type": "code",
      "source": [
        "# Definindo uma semente global para esta célula de código\n",
        "np.random.seed(7)\n",
        "\n",
        "# Lista para armazenamento dos modelos, resultados e nomes dos modelos\n",
        "models = []\n",
        "\n",
        "# Criando os modelos e adicionando-os à lista\n",
        "models.append(('LR', LogisticRegression(max_iter=200)))\n",
        "models.append(('KNN', KNeighborsClassifier()))\n",
        "models.append(('CART', DecisionTreeClassifier()))\n",
        "models.append(('NB', GaussianNB()))\n",
        "models.append(('SVM', SVC()))\n",
        "\n"
      ],
      "metadata": {
        "id": "PNr0KShlEC6J"
      },
      "execution_count": 166,
      "outputs": []
    },
    {
      "cell_type": "markdown",
      "source": [
        "## Treinamento dos modelos\n",
        "Percorreremos os modelos carregados na lista, treinando cada um deles com as bases de treino e utilizando o método de validação cruzada (com 5 folds). Ao final do treinamento de cada modelo, será exibido na tela a média dos resultados da validação cruzada, o desvio padrão e um painel de Boxplot com a comparação dos modelos."
      ],
      "metadata": {
        "id": "Dx-KIFQWw7D2"
      }
    },
    {
      "cell_type": "code",
      "source": [
        "# Lista para armazenas os resultados dos modelos\n",
        "results = []\n",
        "\n",
        "# Lista para armazenar os nomes dos modelos percorridos no treinamento\n",
        "names = []\n",
        "\n",
        "# Definição da métrica de acurácia\n",
        "scoring='accuracy'\n",
        "\n",
        "# Percorre os modelos e treina utilizando validação cruzada, cujo resultado será a métrica de acurácia.\n",
        "for name, model in models:\n",
        "  result_cv = cross_val_score(model, X_train, y_train, cv=kfold, scoring=scoring)\n",
        "  results.append(result_cv)\n",
        "  names.append(name)\n",
        "  # Imprime na tela a média e desvio padrão do resultado de cada modelo\n",
        "  print(f'{name} = Média: {result_cv.mean()} | Desvio Padrão: {result_cv.std()}')\n",
        "\n",
        "# Boxplot para comparação dos modelos\n",
        "fig = plt.figure()\n",
        "fig.suptitle('Comparação da Acurácia dos Modelos')\n",
        "ax = fig.add_subplot(111)\n",
        "plt.boxplot(results)\n",
        "ax.set_xticklabels(names)\n",
        "\n",
        "# Imprime o boxplot na tela\n",
        "plt.show()"
      ],
      "metadata": {
        "id": "QSa4j4TwxZ7C",
        "colab": {
          "base_uri": "https://localhost:8080/",
          "height": 565
        },
        "outputId": "732ac4b5-1bd9-4b63-8aeb-6c78e224845c"
      },
      "execution_count": 167,
      "outputs": [
        {
          "output_type": "stream",
          "name": "stdout",
          "text": [
            "LR = Média: 0.8270833333333334 | Desvio Padrão: 0.015346056227954713\n",
            "KNN = Média: 0.8302083333333334 | Desvio Padrão: 0.025917163394519355\n",
            "CART = Média: 0.8114341085271317 | Desvio Padrão: 0.043672908328056995\n",
            "NB = Média: 0.8208333333333332 | Desvio Padrão: 0.026758231210087264\n",
            "SVM = Média: 0.8473473837209301 | Desvio Padrão: 0.010607975974359078\n"
          ]
        },
        {
          "output_type": "display_data",
          "data": {
            "text/plain": [
              "<Figure size 640x480 with 1 Axes>"
            ],
            "image/png": "[encoded data removed]"
          },
          "metadata": {}
        }
      ]
    },
    {
      "cell_type": "markdown",
      "source": [
        "Observando as saídas acima, os melhores resultados foram obtidos no algorítimo de SVM, com 84,73% de acurácia média e 1% de desvio-padrão.\n",
        "\n",
        "Dado este percentual, podemos dizer que não houve o <i>underfitting</i> e que os parâmetros foram satisfatórios para a predição."
      ],
      "metadata": {
        "id": "EBpacsnQ2iWi"
      }
    },
    {
      "cell_type": "markdown",
      "source": [
        "## Treinamento com comitê de modelos (Ensembles)\n",
        "Nessa etapa iremos realizar o treinamento utilizando um comitê de modelos com o método <i>Voting</i> com os algorítimos de Regressçao Logística, Árvore de Decisão e SVM. A escolha por esse método dá-se pelo fato dos modelos anteriores terem uma boa concordância entre si (acurácia entre 81% e 84%)."
      ],
      "metadata": {
        "id": "tSfOSD4FjoIU"
      }
    },
    {
      "cell_type": "code",
      "source": [
        "# Criação da lista para armazenar as bases para o VotingClassifier\n",
        "bases_voting = []\n",
        "\n",
        "# Definição dos modelos\n",
        "model_LR = LogisticRegression(max_iter=200)\n",
        "model_CART = DecisionTreeClassifier()\n",
        "model_SVM = SVC()\n",
        "\n",
        "bases_voting.append(('LR',model_LR))\n",
        "bases_voting.append(('CART',model_CART))\n",
        "bases_voting.append(('SVM',model_SVM))\n",
        "\n",
        "# Adicionando as bases de voting à lista de modelos\n",
        "\n",
        "models.append(('Voting', VotingClassifier(bases_voting)))\n"
      ],
      "metadata": {
        "id": "xXII-yz1jQjI"
      },
      "execution_count": 168,
      "outputs": []
    },
    {
      "cell_type": "markdown",
      "source": [
        "Abaixo repetiremos o treino dos algorítimos, desta vez considerando o resultado do *Voting*:"
      ],
      "metadata": {
        "id": "74lKJhXJ2zyj"
      }
    },
    {
      "cell_type": "code",
      "source": [
        "# Percorre os modelos para a validação cruzada e imprime na tela a acurácia\n",
        "for name, model in models:\n",
        "  result_cv = cross_val_score(model, X_train, y_train, cv=kfold, scoring=scoring)\n",
        "  results.append(result_cv)\n",
        "  names.append(name)\n",
        "  # Imprime na tela a média e desvio padrão do resultado de cada modelo\n",
        "  print(f'{name} = Média: {result_cv.mean()} | Desvio Padrão: {result_cv.std()}')"
      ],
      "metadata": {
        "colab": {
          "base_uri": "https://localhost:8080/"
        },
        "id": "xqSghwoy3DfN",
        "outputId": "a3822c0c-7399-4113-8370-8abec7aa6155"
      },
      "execution_count": 169,
      "outputs": [
        {
          "output_type": "stream",
          "name": "stdout",
          "text": [
            "LR = Média: 0.8270833333333334 | Desvio Padrão: 0.015346056227954713\n",
            "KNN = Média: 0.8302083333333334 | Desvio Padrão: 0.025917163394519355\n",
            "CART = Média: 0.8160852713178294 | Desvio Padrão: 0.04128935763067432\n",
            "NB = Média: 0.8208333333333332 | Desvio Padrão: 0.026758231210087264\n",
            "SVM = Média: 0.8473473837209301 | Desvio Padrão: 0.010607975974359078\n",
            "Voting = Média: 0.8473473837209301 | Desvio Padrão: 0.0079812924562742\n"
          ]
        }
      ]
    },
    {
      "cell_type": "markdown",
      "source": [
        "Observando a saída acima, percebemos que o resultado do método <i>Voting</i> é idêntico ao do modelo do algorítimo SVM (Ambos 84,734%).\n",
        "\n",
        "A partir dessa análise, optei por levar adiante os resultados dos algorítimos *SVM* e *Voting* como candidatos ao modelo com melhor acurácia."
      ],
      "metadata": {
        "id": "YvzSMija79yW"
      }
    },
    {
      "cell_type": "markdown",
      "source": [
        "## Treinamento com Hiperparâmetro\n",
        "Para fins de comparação de acurácia, repetiremos o treinamento do algorítimo de KNN, desta vez, utilizando a funcionalidade <i>search grid</i> da biblioteca <i>scikit-learn</i>, onde especificaremos o número de vizinhos e as métricas de distância."
      ],
      "metadata": {
        "id": "cW-A1Ti_gTjf"
      }
    },
    {
      "cell_type": "code",
      "source": [
        "# Atribui o nome do algorítimo\n",
        "knn_model = KNeighborsClassifier()\n",
        "\n",
        "# Cria o grid de parâmetros\n",
        "param_grid = {\n",
        "    'n_neighbors': [1,5,9,13,17,21],\n",
        "    'metric': ['euclidian','manhattan','minkowski'],\n",
        "}\n",
        "\n",
        "# Executa o grid search com o conjunto de treino com métrica de acurácia\n",
        "grid_knn = GridSearchCV(estimator=knn_model, param_grid=param_grid, scoring=scoring, cv=kfold)\n",
        "grid_knn.fit(X_train, y_train)\n",
        "\n",
        "# Imprime na tela o resultado\n",
        "print(f'Melhor Score: {grid_knn.best_score_} | Utilizando: {grid_knn.best_params_}')"
      ],
      "metadata": {
        "colab": {
          "base_uri": "https://localhost:8080/"
        },
        "id": "yb1kojdnheJ8",
        "outputId": "7e24719b-e02c-4fec-8c69-cf76dddd0329"
      },
      "execution_count": 170,
      "outputs": [
        {
          "output_type": "stream",
          "name": "stdout",
          "text": [
            "Melhor Score: 0.8473716085271317 | Utilizando: {'metric': 'minkowski', 'n_neighbors': 13}\n"
          ]
        }
      ]
    },
    {
      "cell_type": "markdown",
      "source": [
        "Observando o resultado acima, é possível notar uma melhora no modelo treinado pelo KNN com os ajustes nos parâmetros (vizinhos = 13 e métrica minkowski), demonstrando uma acurácia de 84,737%.\n",
        "\n",
        "Esse percentual é ligeiramente maior que a do modelo treinado pelo SVM sem parâmetros configurados (84,734%), logo, esse modelo também será levado adiante como candidato à melhor acurácia."
      ],
      "metadata": {
        "id": "BT3Fq8zqmqN3"
      }
    },
    {
      "cell_type": "markdown",
      "source": [
        "## Avaliação Com o Conjunto de Teste\n",
        "Serão criados novos modelos utilizando os algorítimo que obteveram a melhor acurácia anteriormente, sendo eles:\n",
        "- Voting (ensemble): 84,734%\n",
        "- SVM: 84,734%\n",
        "- KNN Tunado (ajuste de hiperparâmetros): 84,737%\n",
        "\n",
        "\n",
        "Desta vez, treinaremos com todo o conjunto de dados de treino e avaliaremos com o conjunto de teste."
      ],
      "metadata": {
        "id": "TaFkGZUR6-vu"
      }
    },
    {
      "cell_type": "markdown",
      "source": [
        "### Voting (ensemble)"
      ],
      "metadata": {
        "id": "BebE3YUiBjhW"
      }
    },
    {
      "cell_type": "code",
      "source": [
        "# Definindo o modelo de Voting Classifier\n",
        "\n",
        "model_voting = VotingClassifier(bases_voting)\n",
        "\n",
        "# Treina com todo o conjunto de dados de treino\n",
        "model_voting.fit(X_train,y_train)\n",
        "\n",
        "# Realiza a predição com o conjunto de dados de teste\n",
        "predictions_voting = model_voting.predict(X_test)\n",
        "\n",
        "# Estima a acurácia no conjunto de teste e imprime o resultado\n",
        "print(accuracy_score(y_test, predictions_voting))"
      ],
      "metadata": {
        "colab": {
          "base_uri": "https://localhost:8080/"
        },
        "id": "iU8jgiJr-JK1",
        "outputId": "89ed211c-a77c-48cd-9d36-0e224bc35166"
      },
      "execution_count": 171,
      "outputs": [
        {
          "output_type": "stream",
          "name": "stdout",
          "text": [
            "0.8586956521739131\n"
          ]
        }
      ]
    },
    {
      "cell_type": "markdown",
      "source": [
        "Aqui obtivemos o score de 85,86%. Uma melhor acurácia com o conjunto de teste em relação ao conjunto de treino."
      ],
      "metadata": {
        "id": "m_ACdIsiB9pZ"
      }
    },
    {
      "cell_type": "markdown",
      "source": [
        "### SVM"
      ],
      "metadata": {
        "id": "xhGC9pDYBoYB"
      }
    },
    {
      "cell_type": "code",
      "source": [
        "# Definindo o modelo de SVM\n",
        "model_svm = SVC()\n",
        "\n",
        "# Treina com todo o conjunto de dados de treino\n",
        "model_svm.fit(X_train,y_train)\n",
        "\n",
        "# Realiza a predição com o conjunto de dados de teste\n",
        "predictions_svm = model_svm.predict(X_test)\n",
        "\n",
        "# Estima a acurácia no conjunto de teste e imprime o resultado\n",
        "print(accuracy_score(y_test, predictions_svm))"
      ],
      "metadata": {
        "colab": {
          "base_uri": "https://localhost:8080/"
        },
        "id": "ypUbmJNh7hux",
        "outputId": "91130c54-9cb5-40c3-ce2a-e01544a73bb1"
      },
      "execution_count": 172,
      "outputs": [
        {
          "output_type": "stream",
          "name": "stdout",
          "text": [
            "0.8659420289855072\n"
          ]
        }
      ]
    },
    {
      "cell_type": "markdown",
      "source": [
        "Aqui obtivemos o score de 86,59%. Uma melhor acurácia com o conjunto de teste em relação ao conjunto de treino."
      ],
      "metadata": {
        "id": "2aAdo1wv9Lqn"
      }
    },
    {
      "cell_type": "markdown",
      "source": [
        "### KNN Tunado (hiperparâmetros)"
      ],
      "metadata": {
        "id": "d5uuBkI1Bul5"
      }
    },
    {
      "cell_type": "code",
      "source": [
        "# Realiza a predição com o conjunto de dados de teste\n",
        "predictions_knn = grid_knn.predict(X_test)\n",
        "\n",
        "# Estima a acurácia no conjunto de teste\n",
        "print(accuracy_score(y_test, predictions_knn))"
      ],
      "metadata": {
        "colab": {
          "base_uri": "https://localhost:8080/"
        },
        "id": "4piv4JLqn5SV",
        "outputId": "397003b7-7a1c-4fa8-d34d-9c25f3a31097"
      },
      "execution_count": 173,
      "outputs": [
        {
          "output_type": "stream",
          "name": "stdout",
          "text": [
            "0.855072463768116\n"
          ]
        }
      ]
    },
    {
      "cell_type": "markdown",
      "source": [
        "Aqui obtivemos o score de 85,50%. Uma melhor acurácia com o conjunto de teste em relação ao conjunto de treino."
      ],
      "metadata": {
        "id": "q3duQBMuCtj3"
      }
    },
    {
      "cell_type": "markdown",
      "source": [
        "### Comparação dos modelos candidatos"
      ],
      "metadata": {
        "id": "bOO_AUk3C-uh"
      }
    },
    {
      "cell_type": "markdown",
      "source": [
        "A partir dos resultados é possivel estimar que todos os modelos tem uma boa capacidade de generalização, pois apresentaram bons percentuais com com o conjunto de teste. Logo, não houve o <i>Overfitting</i>.\n",
        "\n",
        "Os resultados com o conjunto de dados teste foram os seguintes:\n",
        "\n",
        "- Voting (ensemble): 85,86%\n",
        "- SVM: 86,59%\n",
        "- KNN Tunado (hiperparâmetros): 85,50%"
      ],
      "metadata": {
        "id": "m0NRLM70DGdY"
      }
    },
    {
      "cell_type": "markdown",
      "source": [
        "## Considerações Sobre o Treinamento dos Modelos\n",
        "Apesar do resultado do KNN Tunado com hiperparâmetros ter sido melhor com os dados de treino, aplicar a predição no conjunto de teste mostrou uma acurácia inferior (85,50%) quando comparado ao modelo SVM treinado com o conjunto de teste (86,59%).\n",
        "\n",
        "Além disso, dado o percentual dos resultados, ambos os modelos apresentaram boa capacidade de generalização (nenhum <i>overfitting</i> detectado)."
      ],
      "metadata": {
        "id": "_mJnq6k2rlE1"
      }
    },
    {
      "cell_type": "markdown",
      "source": [
        "### Voting (Treino X Teste)\n",
        "\n",
        "**84,734%** contra **85,86%** respectivamente."
      ],
      "metadata": {
        "id": "IA1VxO9QHT6v"
      }
    },
    {
      "cell_type": "markdown",
      "source": [
        "### SVM (Treino X Teste)\n",
        "**84,734%** contra **86,59%** respectivamente."
      ],
      "metadata": {
        "id": "RDGC31dzH-EX"
      }
    },
    {
      "cell_type": "markdown",
      "source": [
        "### KNN Tunado (Treino X Teste)\n",
        "**84,737%** contra **85,50%** respectivamente."
      ],
      "metadata": {
        "id": "9vgH0g5tIUmu"
      }
    },
    {
      "cell_type": "markdown",
      "source": [
        "Todos os modelos candidatos apresentaram uma melhor acurácia quando a predição foi realizada no conjunto de dados de teste, mas o modelo **SVM** apresentou uma melhor performance e acurácia neste conjunto em relação aos demais, demonstrando boa capacidade de generalização com dados não vistos, sendo então este o modelo escolhido para a solução do problema proposto neste MVP."
      ],
      "metadata": {
        "id": "M3rkAYxdJN7h"
      }
    }
  ]
}